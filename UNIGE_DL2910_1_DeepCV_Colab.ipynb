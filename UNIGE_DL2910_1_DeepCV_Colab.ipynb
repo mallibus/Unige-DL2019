{
  "nbformat": 4,
  "nbformat_minor": 0,
  "metadata": {
    "kernelspec": {
      "name": "python3",
      "display_name": "Python 3"
    },
    "language_info": {
      "codemirror_mode": {
        "name": "ipython",
        "version": 3
      },
      "file_extension": ".py",
      "mimetype": "text/x-python",
      "name": "python",
      "nbconvert_exporter": "python",
      "pygments_lexer": "ipython3",
      "version": "3.7.2"
    },
    "colab": {
      "name": "UNIGE DL2910 - 1.DeepCV_Colab.ipynb",
      "version": "0.3.2",
      "provenance": [],
      "collapsed_sections": [
        "ukgLDzDSHM4K",
        "fErXhMqwHM6L"
      ],
      "toc_visible": true,
      "include_colab_link": true
    },
    "accelerator": "GPU"
  },
  "cells": [
    {
      "cell_type": "markdown",
      "metadata": {
        "id": "view-in-github",
        "colab_type": "text"
      },
      "source": [
        "<a href=\"https://colab.research.google.com/github/mallibus/Unige-DL2019/blob/master/UNIGE_DL2910_1_DeepCV_Colab.ipynb\" target=\"_parent\"><img src=\"https://colab.research.google.com/assets/colab-badge.svg\" alt=\"Open In Colab\"/></a>"
      ]
    },
    {
      "cell_type": "markdown",
      "metadata": {
        "id": "jHc9O8zRHM3f",
        "colab_type": "text"
      },
      "source": [
        "# Lab 1. Deep Computer Vision\n"
      ]
    },
    {
      "cell_type": "code",
      "metadata": {
        "id": "civxI8GfHM3g",
        "colab_type": "code",
        "outputId": "1b6d1402-ae26-49ad-856c-1069a77ce559",
        "colab": {
          "base_uri": "https://localhost:8080/",
          "height": 67
        }
      },
      "source": [
        "from __future__ import print_function\n",
        "import tensorflow as tf\n",
        "import h5py, os, scipy.ndimage\n",
        "import matplotlib.pyplot as plt\n",
        "import numpy as np\n",
        "from keras.preprocessing.image import ImageDataGenerator\n",
        "from sklearn.model_selection import train_test_split\n",
        "from keras.preprocessing import image\n",
        "from sklearn.metrics import confusion_matrix\n",
        "import seaborn as sns\n",
        "%matplotlib inline\n",
        "\n",
        "\n",
        "tf.enable_eager_execution()\n",
        "\n",
        "print(\"TensorFlow version: {}\".format(tf.__version__))\n",
        "print(\"Eager execution: {}\".format(tf.executing_eagerly()))"
      ],
      "execution_count": 1,
      "outputs": [
        {
          "output_type": "stream",
          "text": [
            "Using TensorFlow backend.\n"
          ],
          "name": "stderr"
        },
        {
          "output_type": "stream",
          "text": [
            "TensorFlow version: 1.14.0\n",
            "Eager execution: True\n"
          ],
          "name": "stdout"
        }
      ]
    },
    {
      "cell_type": "markdown",
      "metadata": {
        "id": "PJrS9oyhoIqi",
        "colab_type": "text"
      },
      "source": [
        "\n",
        "## Adding code snippet to load dataset/images from Google Drive folder (used later in 1.2)\n",
        "\n",
        "*  Run this code block, it will ask for Google Drive authentication. After authenticating, copy URL into box, hit enter\n"
      ]
    },
    {
      "cell_type": "code",
      "metadata": {
        "id": "mtjVmQ_soaLL",
        "colab_type": "code",
        "outputId": "7d052596-8f03-453f-8654-a7b0deb166c7",
        "colab": {
          "base_uri": "https://localhost:8080/",
          "height": 137
        }
      },
      "source": [
        "from google.colab import drive\n",
        "drive.mount('/gdrive')\n",
        "%cd /gdrive"
      ],
      "execution_count": 2,
      "outputs": [
        {
          "output_type": "stream",
          "text": [
            "Go to this URL in a browser: https://accounts.google.com/o/oauth2/auth?client_id=947318989803-6bn6qk8qdgf4n4g3pfee6491hc0brc4i.apps.googleusercontent.com&redirect_uri=urn%3Aietf%3Awg%3Aoauth%3A2.0%3Aoob&scope=email%20https%3A%2F%2Fwww.googleapis.com%2Fauth%2Fdocs.test%20https%3A%2F%2Fwww.googleapis.com%2Fauth%2Fdrive%20https%3A%2F%2Fwww.googleapis.com%2Fauth%2Fdrive.photos.readonly%20https%3A%2F%2Fwww.googleapis.com%2Fauth%2Fpeopleapi.readonly&response_type=code\n",
            "\n",
            "Enter your authorization code:\n",
            "··········\n",
            "Mounted at /gdrive\n",
            "/gdrive\n"
          ],
          "name": "stdout"
        }
      ]
    },
    {
      "cell_type": "code",
      "metadata": {
        "id": "SNAikeq30WPa",
        "colab_type": "code",
        "colab": {
          "base_uri": "https://localhost:8080/",
          "height": 33
        },
        "outputId": "a7fdef05-b5f8-4ff8-af45-02e92f657ba4"
      },
      "source": [
        "from google.colab import drive\n",
        "drive.mount('/content/drive')"
      ],
      "execution_count": 4,
      "outputs": [
        {
          "output_type": "stream",
          "text": [
            "Drive already mounted at /content/drive; to attempt to forcibly remount, call drive.mount(\"/content/drive\", force_remount=True).\n"
          ],
          "name": "stdout"
        }
      ]
    },
    {
      "cell_type": "markdown",
      "metadata": {
        "id": "g1KFz0TTotkU",
        "colab_type": "text"
      },
      "source": [
        "Load one example of image from a Google Drive folder\n",
        "* Click on arrow at left side of screen, then \"Files\". On the Directory Tree, navigate to \"gdrive\", which will contain your Drive folder as \"My Drive\"\n",
        "* In My Drive, search for the folder containing this Lab-1 and find \"dataset > small”\n",
        "* right click on that corresponding folder, “copy path” \n"
      ]
    },
    {
      "cell_type": "code",
      "metadata": {
        "id": "Ppd3EpCKotPV",
        "colab_type": "code",
        "outputId": "45488931-cc7a-49aa-9bd8-45d08a25cd9b",
        "colab": {
          "base_uri": "https://localhost:8080/",
          "height": 283
        }
      },
      "source": [
        "import os\n",
        "base_dir = '/content/drive/My Drive/Lab-1/dataset/small'\n",
        "\n",
        "# load an example image \n",
        "dog_dir = os.path.join(base_dir, 'test', 'dogs')\n",
        "dog_img = plt.imread(os.path.join(dog_dir, 'dog.1500.jpg'))\n",
        "\n",
        "# show image\n",
        "plt.figure(figsize=(6,6))\n",
        "plt.imshow(dog_img)\n",
        "plt.show()"
      ],
      "execution_count": 5,
      "outputs": [
        {
          "output_type": "display_data",
          "data": {
            "image/png": "[encoded data removed]",
            "text/plain": [
              "<Figure size 432x432 with 1 Axes>"
            ]
          },
          "metadata": {
            "tags": []
          }
        }
      ]
    },
    {
      "cell_type": "markdown",
      "metadata": {
        "id": "DIlqtbu2HM3l",
        "colab_type": "text"
      },
      "source": [
        "## 1.1 Convolutional Neural Network\n",
        "\n",
        "\n",
        "<img src=\"http://mlclass.epizy.com/lab1_images_notebook/cnn.png\" width=\"650px\"><br>\n",
        "\n",
        "Convolutional neural networks (ConvNets, CNN) are deep artificial neural networks that are used for many applications (e.g. image recognition, video analysis, nlp, time series, graph data and so on..).\n",
        "\n",
        "A ConvNet is a sequence of layers, and every layer of a ConvNet transforms one volume of activations to another through a differentiable function. <br>\n",
        "Three main types of layers are used to build ConvNet architectures: Convolutional Layer, Pooling Layer, and Fully-Connected Layer; these layers are stacked to form a full ConvNet architecture.\n",
        "\n",
        "**Feature Learning**\n",
        "1. Convolution: Apply filters with learned weights to generate feature maps.<br>\n",
        "2. Non Linearity: Often ReLU, sigmoid or tanh.<br>\n",
        "3. Pooling: Downsampling operation on each feature map.<br>\n",
        " \n",
        "**Classification**\n",
        "1. Flatten: Convert the output of the Feature Learning part of the CNN into a 1D feature vector.<br>\n",
        "2. Fully connected: Uses the features extracted from the previous layers for classifying input.<br>\n",
        "3. Softmax: express output as probability of input data belonging to a particular class.<br>"
      ]
    },
    {
      "cell_type": "markdown",
      "metadata": {
        "id": "CsoIMbKIoOQl",
        "colab_type": "text"
      },
      "source": [
        "### Note\n",
        "If you cannot see the image in the previous block, click on the following link. <br>\n",
        "http://mlclass.epizy.com/lab1_images_notebook/cnn.png\n",
        "\n",
        "You will be redirected to an image. Come back and reload this page. You should be able to see the images on this page now."
      ]
    },
    {
      "cell_type": "markdown",
      "metadata": {
        "id": "RwVQvR6PHM3m",
        "colab_type": "text"
      },
      "source": [
        "### Define the CNN model\n",
        "*  1. Import dataset\n",
        "*  2. Build the model\n",
        "*  3. Train the model \n",
        "*  4. Evaluate the model"
      ]
    },
    {
      "cell_type": "markdown",
      "metadata": {
        "id": "XT_q54LaHM3n",
        "colab_type": "text"
      },
      "source": [
        "### 1.1.1 Import CIFAR-10 dataset"
      ]
    },
    {
      "cell_type": "code",
      "metadata": {
        "id": "m0oj_1sS2G94",
        "colab_type": "code",
        "colab": {
          "base_uri": "https://localhost:8080/",
          "height": 50
        },
        "outputId": "7419893c-e282-464e-e2e7-d1da8b25100b"
      },
      "source": [
        "from keras.datasets import cifar10\n",
        "\n",
        "(x_learn, y_learn), (x_test, y_test) = cifar10.load_data()"
      ],
      "execution_count": 10,
      "outputs": [
        {
          "output_type": "stream",
          "text": [
            "Downloading data from https://www.cs.toronto.edu/~kriz/cifar-10-python.tar.gz\n",
            "170500096/170498071 [==============================] - 6s 0us/step\n"
          ],
          "name": "stdout"
        }
      ]
    },
    {
      "cell_type": "code",
      "metadata": {
        "id": "51EdNjJa3U-b",
        "colab_type": "code",
        "colab": {}
      },
      "source": [
        "# normalize (divide by 255.0)\n",
        "x_learn, x_test = x_learn/255.0, x_test/255.0"
      ],
      "execution_count": 0,
      "outputs": []
    },
    {
      "cell_type": "code",
      "metadata": {
        "id": "3ZcLdcop3z9q",
        "colab_type": "code",
        "colab": {}
      },
      "source": [
        "# divide learning set into training set and validation set (sklearn provide train_test_split function)\n",
        "x_train, x_val, y_train, y_val = train_test_split(x_learn, y_learn, test_size=0.33, random_state=42)"
      ],
      "execution_count": 0,
      "outputs": []
    },
    {
      "cell_type": "code",
      "metadata": {
        "id": "5BIk-ols3_2h",
        "colab_type": "code",
        "colab": {
          "base_uri": "https://localhost:8080/",
          "height": 33
        },
        "outputId": "851c1897-c368-453c-c370-5388cd03f6cb"
      },
      "source": [
        "print(x_train.shape, x_val.shape, x_test.shape)"
      ],
      "execution_count": 14,
      "outputs": [
        {
          "output_type": "stream",
          "text": [
            "(33500, 32, 32, 3) (16500, 32, 32, 3) (10000, 32, 32, 3)\n"
          ],
          "name": "stdout"
        }
      ]
    },
    {
      "cell_type": "markdown",
      "metadata": {
        "id": "FdSM_zSYHM3q",
        "colab_type": "text"
      },
      "source": [
        "#### Plot some sample"
      ]
    },
    {
      "cell_type": "code",
      "metadata": {
        "id": "lhk7E486HM3q",
        "colab_type": "code",
        "colab": {}
      },
      "source": [
        "class_names = ['airplane','automobile','bird','cat','deer','dog','frog','horse','ship','truck']\n",
        "\n",
        "plt.figure(figsize=(6,6))\n",
        "for i in range(16):\n",
        "    plt.subplot(4,4,i+1)\n",
        "    plt.xticks([])\n",
        "    plt.yticks([])\n",
        "    plt.grid(False)\n",
        "    plt.imshow(x_train[i], cmap=plt.cm.binary)\n",
        "    plt.xlabel(class_names[y_train[i][0]])\n",
        "plt.show()"
      ],
      "execution_count": 0,
      "outputs": []
    },
    {
      "cell_type": "markdown",
      "metadata": {
        "id": "uRxRroeXHM3s",
        "colab_type": "text"
      },
      "source": [
        "### 1.1.2 Build the model\n"
      ]
    },
    {
      "cell_type": "markdown",
      "metadata": {
        "id": "cc6lxBkYHM3t",
        "colab_type": "text"
      },
      "source": [
        "#### Define the model parameters"
      ]
    },
    {
      "cell_type": "code",
      "metadata": {
        "id": "2PBabZ5OHM3t",
        "colab_type": "code",
        "colab": {}
      },
      "source": [
        "num_classes = # --fill here-- (according to number of class_names)#\n",
        "n_filters = # --fill here-- (suggestion: 32, but you can play with different numbesr)#"
      ],
      "execution_count": 0,
      "outputs": []
    },
    {
      "cell_type": "markdown",
      "metadata": {
        "id": "CuGm5nBNHM3v",
        "colab_type": "text"
      },
      "source": [
        "#### Define the model\n",
        "Try to stack different layers (you could use this scheleton: (Conv(ReLU)+MaxPool+Dropout)*3 + Flatten + Droupout + Dense + Dense(softmax))."
      ]
    },
    {
      "cell_type": "code",
      "metadata": {
        "id": "MHYmm-OlHM3w",
        "colab_type": "code",
        "colab": {}
      },
      "source": [
        "def create_simplecnnmodel():\n",
        "    return tf.keras.Sequential([\n",
        "        # --fill here-- #\n",
        "])"
      ],
      "execution_count": 0,
      "outputs": []
    },
    {
      "cell_type": "code",
      "metadata": {
        "id": "C3Ji_lZ1HM3y",
        "colab_type": "code",
        "colab": {}
      },
      "source": [
        "cnn_model = create_simplecnnmodel()"
      ],
      "execution_count": 0,
      "outputs": []
    },
    {
      "cell_type": "markdown",
      "metadata": {
        "id": "kUONuYPQHM30",
        "colab_type": "text"
      },
      "source": [
        "#### Configures the model for training"
      ]
    },
    {
      "cell_type": "code",
      "metadata": {
        "id": "y2hAHyPAHM31",
        "colab_type": "code",
        "colab": {}
      },
      "source": [
        "# Optimizers https://www.tensorflow.org/api_docs/python/tf/keras/optimizers\n",
        "adam = tf.keras.optimizers.Adam(lr=0.001, beta_1=0.9, beta_2=0.999, epsilon=None, decay=0.0, amsgrad=False)\n",
        "sgd = tf.keras.optimizers.SGD(lr=0.001, momentum=0.0, decay=0.0, nesterov=False)\n",
        "adad = tf.keras.optimizers.Adadelta(lr=1.0,rho=0.95,epsilon=None,decay=0.0)\n",
        "adag = tf.keras.optimizers.Adagrad(lr=0.01,epsilon=None,decay=0.0)\n",
        "adamax = tf.keras.optimizers.Adamax(lr=0.002,beta_1=0.9,beta_2=0.999,epsilon=None,decay=0.0)\n",
        "nadam = tf.keras.optimizers.Nadam(lr=0.002,beta_1=0.9,beta_2=0.999,epsilon=None,schedule_decay=0.004)\n",
        "rms = tf.keras.optimizers.RMSprop(lr=0.001,rho=0.9,epsilon=None,decay=0.0)\n",
        "\n",
        "# Losses https://keras.io/losses/\n",
        "loss = ['sparse_categorical_crossentropy','binary_crossentropy','mean_squared_error','mean_absolute_error',\n",
        "        'categorical_crossentropy','categorical_hinge']\n",
        "\n",
        "# Metrics  https://www.tensorflow.org/api_docs/python/tf/metrics\n",
        "metrics = ['accuracy','precision','recall']"
      ],
      "execution_count": 0,
      "outputs": []
    },
    {
      "cell_type": "markdown",
      "metadata": {
        "id": "rB0ePkx5HM33",
        "colab_type": "text"
      },
      "source": [
        "#### Compile the model"
      ]
    },
    {
      "cell_type": "code",
      "metadata": {
        "id": "Nf-WF6YKHM34",
        "colab_type": "code",
        "colab": {}
      },
      "source": [
        "cnn_model.compile(optimizer=rms, \n",
        "              loss=loss[0],\n",
        "              metrics=[metrics[0]])"
      ],
      "execution_count": 0,
      "outputs": []
    },
    {
      "cell_type": "markdown",
      "metadata": {
        "id": "0yOH-2goHM36",
        "colab_type": "text"
      },
      "source": [
        "### 1.1.3 Train the model\n"
      ]
    },
    {
      "cell_type": "code",
      "metadata": {
        "scrolled": true,
        "id": "Awi3t6CMHM37",
        "colab_type": "code",
        "colab": {}
      },
      "source": [
        "epochs = # --fill here-- #\n",
        "batch_size = # --fill here-- #\n",
        "history = cnn_model.fit(x_train, y_train, batch_size=batch_size, \n",
        "                        validation_data =(x_val, y_val), epochs=epochs)"
      ],
      "execution_count": 0,
      "outputs": []
    },
    {
      "cell_type": "code",
      "metadata": {
        "id": "efHKibDRvfNp",
        "colab_type": "code",
        "colab": {}
      },
      "source": [
        "def plot_history(history):\n",
        "    # Plot training & validation accuracy values\n",
        "    plt.plot(history.history['acc'])\n",
        "    plt.plot(history.history['val_acc'])\n",
        "    plt.title('Model accuracy')\n",
        "    plt.ylabel('Accuracy')\n",
        "    plt.xlabel('Epoch')\n",
        "    plt.legend(['Train', 'Val'], loc='upper left')\n",
        "    plt.show()\n",
        "\n",
        "    # Plot training & validation loss values\n",
        "    plt.plot(history.history['loss'])\n",
        "    plt.plot(history.history['val_loss'])\n",
        "    plt.title('Model loss')\n",
        "    plt.ylabel('Loss')\n",
        "    plt.xlabel('Epoch')\n",
        "    plt.legend(['Train', 'Val'], loc='upper left')\n",
        "    plt.show()"
      ],
      "execution_count": 0,
      "outputs": []
    },
    {
      "cell_type": "code",
      "metadata": {
        "scrolled": false,
        "id": "JXF9z-AiHM39",
        "colab_type": "code",
        "colab": {}
      },
      "source": [
        "plot_history(history)"
      ],
      "execution_count": 0,
      "outputs": []
    },
    {
      "cell_type": "markdown",
      "metadata": {
        "id": "XCBZgmeWHM3_",
        "colab_type": "text"
      },
      "source": [
        "### 1.1.4 Evaluate the model"
      ]
    },
    {
      "cell_type": "code",
      "metadata": {
        "id": "to4o6XZPHM4A",
        "colab_type": "code",
        "colab": {}
      },
      "source": [
        "test_loss, test_acc = # --fill here-- #\n",
        "print('Test accuracy: %.3f, Test loss: %.3f' % (test_acc,test_loss))"
      ],
      "execution_count": 0,
      "outputs": []
    },
    {
      "cell_type": "markdown",
      "metadata": {
        "id": "rzk1N5DwHM4E",
        "colab_type": "text"
      },
      "source": [
        "#### Plot some missclassified sample"
      ]
    },
    {
      "cell_type": "code",
      "metadata": {
        "scrolled": false,
        "id": "hFoPHr8zHM4E",
        "colab_type": "code",
        "colab": {}
      },
      "source": [
        "predictions = cnn_model.predict(x_test)\n",
        "\n",
        "plt.figure(figsize=(6,6))\n",
        "j = 0\n",
        "\n",
        "for i in range(100):\n",
        "    if(np.argmax(predictions[i]) != y_test[i]):\n",
        "        plt.subplot(4,4,j+1)\n",
        "        plt.xticks([])\n",
        "        plt.yticks([])\n",
        "        plt.grid(False)\n",
        "        plt.imshow(x_test[i], cmap=plt.cm.binary)\n",
        "        plt.xlabel(class_names[np.argmax(predictions[i])])\n",
        "        j+=1\n",
        "        if (j%16 == 0):\n",
        "            break\n",
        "plt.show()"
      ],
      "execution_count": 0,
      "outputs": []
    },
    {
      "cell_type": "markdown",
      "metadata": {
        "id": "CVHJQi1AHM4G",
        "colab_type": "text"
      },
      "source": [
        "#### Summary of the model (layers, input shape and parameters number)"
      ]
    },
    {
      "cell_type": "code",
      "metadata": {
        "id": "yE2QvadcHM4H",
        "colab_type": "code",
        "colab": {}
      },
      "source": [
        "cnn_model.summary()"
      ],
      "execution_count": 0,
      "outputs": []
    },
    {
      "cell_type": "markdown",
      "metadata": {
        "id": "pwSchjnSHM4I",
        "colab_type": "text"
      },
      "source": [
        "**Try to play with n_filters value.<br>\n",
        "What happens? How the number of parameters of the network increase? How this value affects the accuracy?**"
      ]
    },
    {
      "cell_type": "markdown",
      "metadata": {
        "id": "PUM8olbjHM4K",
        "colab_type": "text"
      },
      "source": [
        "## 1.2 Training a ConvNet from scratch on a small dataset\n",
        "\n",
        "One common obstacle for using Deep Learning to solve problems is the amount of data needed to train a model. <br>\n",
        "The requirement of large data arises because of the large number of parameters in the model that machines have to learn.<br>\n",
        "There are different techniques that allow you to use deep architectures with a small amount of data:\n",
        "    1. Data augmentation\n",
        "    2. Pre-trained model\n",
        "    3. Fine-tuning a pre-trained model"
      ]
    },
    {
      "cell_type": "markdown",
      "metadata": {
        "id": "ukgLDzDSHM4K",
        "colab_type": "text"
      },
      "source": [
        "#### First of all evaluate how a simple model (as the model built in the first part) perform on a small dataset; then try the techniques listed above to see which works better."
      ]
    },
    {
      "cell_type": "markdown",
      "metadata": {
        "id": "rWF0ckrXHM4P",
        "colab_type": "text"
      },
      "source": [
        "#### Load dataset"
      ]
    },
    {
      "cell_type": "code",
      "metadata": {
        "id": "KCj8zSXuHM4Q",
        "colab_type": "code",
        "colab": {}
      },
      "source": [
        "# Load your dataset\n",
        "\n",
        "base_dir = # --fill here-- # path where you saved the dataset\n",
        "\n",
        "train_dir = os.path.join(base_dir, 'train')\n",
        "validation_dir = os.path.join(base_dir, 'validation')\n",
        "test_dir = os.path.join(base_dir, 'test')\n",
        "\n",
        "# Binary classification problem: two class (cat vs dog)\n",
        "train_cats_dir = os.path.join(train_dir, 'cats')\n",
        "train_dogs_dir = os.path.join(train_dir, 'dogs')\n",
        "validation_cats_dir = os.path.join(validation_dir, 'cats')\n",
        "validation_dogs_dir = os.path.join(validation_dir, 'dogs')\n",
        "test_cats_dir = os.path.join(test_dir, 'cats')\n",
        "test_dogs_dir = os.path.join(test_dir, 'dogs')\n",
        "\n",
        "\n",
        "print('total training cat images:', len(os.listdir(train_cats_dir)))\n",
        "print('total training dog images:', len(os.listdir(train_dogs_dir)))\n",
        "print('total validation cat images:', len(os.listdir(validation_cats_dir)))\n",
        "print('total validation dog images:', len(os.listdir(validation_dogs_dir)))\n",
        "print('total test cat images:', len(os.listdir(test_cats_dir)))\n",
        "print('total test dog images:', len(os.listdir(test_dogs_dir)))"
      ],
      "execution_count": 0,
      "outputs": []
    },
    {
      "cell_type": "markdown",
      "metadata": {
        "id": "at04rz1tHM4U",
        "colab_type": "text"
      },
      "source": [
        "#### Define the model parameters"
      ]
    },
    {
      "cell_type": "code",
      "metadata": {
        "id": "6YwbCDOsHM4U",
        "colab_type": "code",
        "colab": {}
      },
      "source": [
        "n_filters = # --fill here-- #\n",
        "num_classes = 1"
      ],
      "execution_count": 0,
      "outputs": []
    },
    {
      "cell_type": "markdown",
      "metadata": {
        "id": "al7272VEHM4W",
        "colab_type": "text"
      },
      "source": [
        "#### Define the model"
      ]
    },
    {
      "cell_type": "code",
      "metadata": {
        "id": "7obcDVg6HM4W",
        "colab_type": "code",
        "colab": {}
      },
      "source": [
        "def create_cnnmodel():\n",
        "    return tf.keras.Sequential([\n",
        "        # --fill here-- #\n",
        "])"
      ],
      "execution_count": 0,
      "outputs": []
    },
    {
      "cell_type": "markdown",
      "metadata": {
        "id": "Hx1CWh2-HM4Y",
        "colab_type": "text"
      },
      "source": [
        "#### Create the model"
      ]
    },
    {
      "cell_type": "code",
      "metadata": {
        "id": "eUMWys1SHM4Y",
        "colab_type": "code",
        "colab": {}
      },
      "source": [
        "cnn_model1 = create_cnnmodel()"
      ],
      "execution_count": 0,
      "outputs": []
    },
    {
      "cell_type": "markdown",
      "metadata": {
        "id": "epJ3b_0-HM4b",
        "colab_type": "text"
      },
      "source": [
        "#### Compile the model"
      ]
    },
    {
      "cell_type": "code",
      "metadata": {
        "id": "D6Mcx_7IHM4b",
        "colab_type": "code",
        "colab": {}
      },
      "source": [
        "cnn_model1.compile(optimizer=rms,\n",
        "              loss=loss[1],\n",
        "              metrics=[metrics[0]])"
      ],
      "execution_count": 0,
      "outputs": []
    },
    {
      "cell_type": "markdown",
      "metadata": {
        "id": "pSDXhG9ZHM4d",
        "colab_type": "text"
      },
      "source": [
        "ImageDataGenerator class allows to generate batches of tensor image data with real-time data augmentation. The data will be looped over (in batches). Now we aren't doing augmentation, but we use this class only to normalize the data."
      ]
    },
    {
      "cell_type": "code",
      "metadata": {
        "id": "BwbzOpT3HM4f",
        "colab_type": "code",
        "colab": {}
      },
      "source": [
        "# Normalization\n",
        "train_datagen = ImageDataGenerator(rescale=1./255) \n",
        "test_datagen = ImageDataGenerator(rescale=1./255) \n",
        "\n",
        "train_generator = train_datagen.flow_from_directory(\n",
        "    train_dir,\n",
        "    target_size=(150, 150),\n",
        "    batch_size=32,\n",
        "    class_mode='binary')\n",
        "\n",
        "validation_generator = test_datagen.flow_from_directory(\n",
        "    validation_dir,\n",
        "    target_size=(150, 150),\n",
        "    batch_size=32,\n",
        "    class_mode='binary')\n",
        "\n",
        "test_generator = test_datagen.flow_from_directory(\n",
        "    test_dir,\n",
        "    target_size=(150, 150),\n",
        "    batch_size=32,\n",
        "    class_mode='binary')\n",
        "\n",
        "for data_batch, labels_batch in train_generator:\n",
        "    print('data batch shape:', data_batch.shape)\n",
        "    print('labels batch shape:', labels_batch.shape)\n",
        "    break"
      ],
      "execution_count": 0,
      "outputs": []
    },
    {
      "cell_type": "markdown",
      "metadata": {
        "id": "oPEnJVlrHM4h",
        "colab_type": "text"
      },
      "source": [
        "#### Train the model using fit_generator() - Please check the description of fit_generator at https://keras.io/models/sequential/\n",
        "\n",
        "Trains the model on data generated batch-by-batch by a Python generator (or an instance of Sequence).\n",
        "\n",
        "The generator is run in parallel to the model, for efficiency. For instance, this allows you to do real-time data augmentation on images on CPU in parallel to training your model on GPU.\n"
      ]
    },
    {
      "cell_type": "code",
      "metadata": {
        "scrolled": true,
        "id": "m8OFgStxHM4i",
        "colab_type": "code",
        "colab": {}
      },
      "source": [
        "steps_per_epoch = # --fill here-- #\n",
        "epochs = # --fill here-- #\n",
        "validation_steps = # --fill here-- #\n",
        "\n",
        "history = # --fill here-- # Train the model"
      ],
      "execution_count": 0,
      "outputs": []
    },
    {
      "cell_type": "code",
      "metadata": {
        "id": "XHbMHeA6HM4k",
        "colab_type": "code",
        "colab": {}
      },
      "source": [
        "plot_history(history)"
      ],
      "execution_count": 0,
      "outputs": []
    },
    {
      "cell_type": "markdown",
      "metadata": {
        "id": "WBRQqEU_HM4n",
        "colab_type": "text"
      },
      "source": [
        "#### Evaluate the model"
      ]
    },
    {
      "cell_type": "code",
      "metadata": {
        "id": "I5LR7owhHM4n",
        "colab_type": "code",
        "colab": {}
      },
      "source": [
        "test_loss, test_acc = # --fill here-- # Remember: you used a generator, search for evaluate_generator.\n",
        "print('Test accuracy: %.3f, Test loss: %.3f' % (test_acc,test_loss))"
      ],
      "execution_count": 0,
      "outputs": []
    },
    {
      "cell_type": "markdown",
      "metadata": {
        "id": "-9IbsenyHM4r",
        "colab_type": "text"
      },
      "source": [
        "### 1.2.1 Data augmentation\n",
        "Data augmentation is a technique to artificially create new training data from existing training data.<br>\n",
        "Why more data could increase accuracy of a networks?"
      ]
    },
    {
      "cell_type": "code",
      "metadata": {
        "scrolled": false,
        "id": "ix3IcfAhHM4r",
        "colab_type": "code",
        "colab": {}
      },
      "source": [
        "datagen = ImageDataGenerator(\n",
        "    rotation_range=40,\n",
        "    width_shift_range=0.2,\n",
        "    height_shift_range=0.2,\n",
        "    shear_range=0.2,\n",
        "    zoom_range=0.2,\n",
        "    horizontal_flip=True,\n",
        "    fill_mode='nearest')"
      ],
      "execution_count": 0,
      "outputs": []
    },
    {
      "cell_type": "markdown",
      "metadata": {
        "id": "MvagxHKpHM4t",
        "colab_type": "text"
      },
      "source": [
        "#### Plot some examples of augmented images"
      ]
    },
    {
      "cell_type": "code",
      "metadata": {
        "id": "UvzDSVPuHM4u",
        "colab_type": "code",
        "colab": {}
      },
      "source": [
        "fnames = [os.path.join(train_cats_dir, fname) for\n",
        "    fname in os.listdir(train_cats_dir)]\n",
        "\n",
        "img_path = fnames[0]\n",
        "img = image.load_img(img_path, target_size=(150, 150))\n",
        "\n",
        "x = image.img_to_array(img)\n",
        "x = x.reshape((1,) + x.shape)\n",
        "i = 0\n",
        "\n",
        "plt.figure(figsize=(8,8))\n",
        "\n",
        "for batch in datagen.flow(x, batch_size=1):\n",
        "    plt.subplot(4,4,i+1)\n",
        "    imgplot = plt.imshow(image.array_to_img(batch[0]))\n",
        "    plt.axis('off')\n",
        "    i += 1\n",
        "    if i % 16 == 0:\n",
        "        break\n",
        "        \n",
        "plt.show()"
      ],
      "execution_count": 0,
      "outputs": []
    },
    {
      "cell_type": "markdown",
      "metadata": {
        "id": "mKZHcC1yHM4w",
        "colab_type": "text"
      },
      "source": [
        "#### Create the model"
      ]
    },
    {
      "cell_type": "code",
      "metadata": {
        "scrolled": false,
        "id": "w4PVnuFcHM4w",
        "colab_type": "code",
        "colab": {}
      },
      "source": [
        "cnn_model_a = create_cnnmodel()"
      ],
      "execution_count": 0,
      "outputs": []
    },
    {
      "cell_type": "markdown",
      "metadata": {
        "id": "RuEtf9z1HM4y",
        "colab_type": "text"
      },
      "source": [
        "#### Compile the model"
      ]
    },
    {
      "cell_type": "code",
      "metadata": {
        "id": "ffZy4F2wHM4z",
        "colab_type": "code",
        "colab": {}
      },
      "source": [
        "# --fill here-- # Use binary cross entropy loss"
      ],
      "execution_count": 0,
      "outputs": []
    },
    {
      "cell_type": "markdown",
      "metadata": {
        "id": "qNDrK4kmHM41",
        "colab_type": "text"
      },
      "source": [
        "#### Create ImageDataGenerator for training and validation set"
      ]
    },
    {
      "cell_type": "code",
      "metadata": {
        "id": "vIc8g7qZHM41",
        "colab_type": "code",
        "colab": {}
      },
      "source": [
        "train_datagen_a = ImageDataGenerator(\n",
        "    rescale=1./255,\n",
        "    rotation_range=40,\n",
        "    width_shift_range=0.2,\n",
        "    height_shift_range=0.2,\n",
        "    shear_range=0.2,\n",
        "    zoom_range=0.2,\n",
        "    horizontal_flip=True,)\n",
        "\n",
        "test_datagen_a = ImageDataGenerator(rescale=1./255)\n",
        "\n",
        "train_generator_a = train_datagen_a.flow_from_directory(\n",
        "    train_dir,\n",
        "    target_size=(150, 150),\n",
        "    batch_size=32,\n",
        "    class_mode='binary')\n",
        "\n",
        "validation_generator_a = test_datagen_a.flow_from_directory(\n",
        "    validation_dir,\n",
        "    target_size=(150, 150),\n",
        "    batch_size=32,\n",
        "    class_mode='binary')\n",
        "\n",
        "for data_batch, labels_batch in train_generator_a:\n",
        "    print('data batch shape:', data_batch.shape)\n",
        "    print('labels batch shape:', labels_batch.shape)\n",
        "    break"
      ],
      "execution_count": 0,
      "outputs": []
    },
    {
      "cell_type": "markdown",
      "metadata": {
        "id": "74zufRxkHM44",
        "colab_type": "text"
      },
      "source": [
        "#### Train the model using fit_generator()"
      ]
    },
    {
      "cell_type": "code",
      "metadata": {
        "scrolled": false,
        "id": "idvzOJMcHM45",
        "colab_type": "code",
        "colab": {}
      },
      "source": [
        "steps_per_epoch = # --fill here-- #\n",
        "epochs = # --fill here-- #\n",
        "validation_steps = # --fill here-- #\n",
        "\n",
        "history = # --fill here-- # Train the model"
      ],
      "execution_count": 0,
      "outputs": []
    },
    {
      "cell_type": "code",
      "metadata": {
        "id": "3aI2dl_hHM47",
        "colab_type": "code",
        "colab": {}
      },
      "source": [
        "plot_history(history)"
      ],
      "execution_count": 0,
      "outputs": []
    },
    {
      "cell_type": "markdown",
      "metadata": {
        "id": "Vph3B2l-HM48",
        "colab_type": "text"
      },
      "source": [
        "#### Evaluate the model"
      ]
    },
    {
      "cell_type": "code",
      "metadata": {
        "id": "95zwbHaQHM49",
        "colab_type": "code",
        "colab": {}
      },
      "source": [
        "test_generator_a = test_datagen_a.flow_from_directory(\n",
        "    test_dir,\n",
        "    target_size=(150, 150),\n",
        "    batch_size=20,\n",
        "    class_mode='binary')\n",
        "\n",
        "test_loss, test_acc = cnn_model_a.evaluate_generator(test_generator_a, verbose=1)\n",
        "print('Test accuracy: %.3f, Test loss: %.3f' % (test_acc,test_loss))"
      ],
      "execution_count": 0,
      "outputs": []
    },
    {
      "cell_type": "markdown",
      "metadata": {
        "id": "Fcip1cgdHM4_",
        "colab_type": "text"
      },
      "source": [
        "#### Save the model\n",
        "It raise an error but it save the model"
      ]
    },
    {
      "cell_type": "code",
      "metadata": {
        "scrolled": true,
        "id": "ltWTE__gHM4_",
        "colab_type": "code",
        "colab": {}
      },
      "source": [
        "cnn_model_a.save('Declare/a/location/in/Drive/folder/here')"
      ],
      "execution_count": 0,
      "outputs": []
    },
    {
      "cell_type": "markdown",
      "metadata": {
        "id": "O_P1iVA9HM5B",
        "colab_type": "text"
      },
      "source": [
        "### 1.2.2 Pre-trained ConvNet (Transfer Learning)\n",
        "A pretrained network is a saved network that was previously trained on a large dataset, typically on a large-scale image-classification task.<br>\n",
        "If this original dataset is large enough and general enough, then the spatial hierarchy of features learned by the pretrained network can effectively act as a generic model of the visual world, and hence its features can prove useful for many different computer vision problems, even though these new problems may involve completely different classes than those of the original task.<br>\n",
        "So we use the representations learned by a previous network to extract interesting features from new samples; these features are then run through a new classifier, which is trained from scratch.<br>\n",
        "\n",
        "<img src=\"http://mlclass.epizy.com/lab1_images_notebook/pre-trained.png\" width=\"600px\"><br>\n"
      ]
    },
    {
      "cell_type": "markdown",
      "metadata": {
        "id": "yiduf4lUHM5C",
        "colab_type": "text"
      },
      "source": [
        "#### Load the VGG16 model\n",
        "Here you can find a list of available pre-trained model https://github.com/keras-team/keras-applications/tree/master/keras_applications."
      ]
    },
    {
      "cell_type": "code",
      "metadata": {
        "id": "-fIEljUdHM5E",
        "colab_type": "code",
        "colab": {}
      },
      "source": [
        "conv_base = tf.keras.applications.VGG16(weights='imagenet',\n",
        "    include_top=False,\n",
        "    input_shape=(150, 150, 3))\n",
        "\n",
        "conv_base.summary()"
      ],
      "execution_count": 0,
      "outputs": []
    },
    {
      "cell_type": "markdown",
      "metadata": {
        "id": "VdgKiZvYHM5G",
        "colab_type": "text"
      },
      "source": [
        "**Freeze the convolutional base**.<br>\n",
        "Freezing a layer or set of layers means preventing their weights from being updated during training."
      ]
    },
    {
      "cell_type": "code",
      "metadata": {
        "id": "sK6cUKjgHM5H",
        "colab_type": "code",
        "colab": {}
      },
      "source": [
        "print('This is the number of trainable weights '\n",
        "    'before freezing the conv base:', len(conv_base.trainable_weights))\n",
        "\n",
        "conv_base.trainable = False\n",
        "\n",
        "print('This is the number of trainable weights '\n",
        "    'after freezing the conv base:', len(conv_base.trainable_weights))"
      ],
      "execution_count": 0,
      "outputs": []
    },
    {
      "cell_type": "markdown",
      "metadata": {
        "id": "VV68wGaJHM5I",
        "colab_type": "text"
      },
      "source": [
        "#### Create the model using a pre-trained model and a new classifier on the top"
      ]
    },
    {
      "cell_type": "code",
      "metadata": {
        "id": "d3MtiRVBHM5J",
        "colab_type": "code",
        "colab": {}
      },
      "source": [
        "model = tf.keras.Sequential([\n",
        "    conv_base,\n",
        "    tf.keras.layers.Flatten(),\n",
        "    tf.keras.layers.Dense(256, activation=tf.nn.relu),\n",
        "    tf.keras.layers.Dense(1, activation=tf.nn.sigmoid)\n",
        "])\n",
        "\n",
        "model_a.summary()"
      ],
      "execution_count": 0,
      "outputs": []
    },
    {
      "cell_type": "markdown",
      "metadata": {
        "id": "VySBeNkJHM5K",
        "colab_type": "text"
      },
      "source": [
        "#### Compile the model"
      ]
    },
    {
      "cell_type": "code",
      "metadata": {
        "id": "GyuJU4q_HM5L",
        "colab_type": "code",
        "colab": {}
      },
      "source": [
        "# --fill here-- #"
      ],
      "execution_count": 0,
      "outputs": []
    },
    {
      "cell_type": "markdown",
      "metadata": {
        "id": "9p4fE2J5HM5O",
        "colab_type": "text"
      },
      "source": [
        "#### Train the model without data augmentation"
      ]
    },
    {
      "cell_type": "code",
      "metadata": {
        "id": "TI-H-AfZHM5P",
        "colab_type": "code",
        "colab": {}
      },
      "source": [
        "steps_per_epoch = # --fill here-- #\n",
        "epochs = # --fill here-- #\n",
        "validation_steps = # --fill here-- #\n",
        "\n",
        "history = # --fill here-- #"
      ],
      "execution_count": 0,
      "outputs": []
    },
    {
      "cell_type": "code",
      "metadata": {
        "id": "ozVf6Cs0HM5R",
        "colab_type": "code",
        "colab": {}
      },
      "source": [
        "plot_history(history)"
      ],
      "execution_count": 0,
      "outputs": []
    },
    {
      "cell_type": "markdown",
      "metadata": {
        "id": "5dujS4RUHM5T",
        "colab_type": "text"
      },
      "source": [
        "#### Evaluate the model"
      ]
    },
    {
      "cell_type": "code",
      "metadata": {
        "id": "eqRAR6K2HM5T",
        "colab_type": "code",
        "colab": {}
      },
      "source": [
        "test_loss, test_acc = # --fill here-- #\n",
        "print('Test accuracy: %.3f, Test loss: %.3f' % (test_acc,test_loss))"
      ],
      "execution_count": 0,
      "outputs": []
    },
    {
      "cell_type": "markdown",
      "metadata": {
        "id": "n1P4ElBKHM5U",
        "colab_type": "text"
      },
      "source": [
        "**What could you notice from the loss graph?**"
      ]
    },
    {
      "cell_type": "markdown",
      "metadata": {
        "id": "6Vy_2l8KHM5V",
        "colab_type": "text"
      },
      "source": [
        "### 1.2.2 Pre-trained Convnet (Transfer Learning) with data augmentation\n",
        "**This technique is so expensive that you should only attempt it if you\n",
        "have access to a GPU—it’s absolutely intractable on CPU.<br> If you can’t run your\n",
        "code on GPU, then the previous technique is the way to go.**"
      ]
    },
    {
      "cell_type": "code",
      "metadata": {
        "id": "FXHACjHbHM5V",
        "colab_type": "code",
        "colab": {}
      },
      "source": [
        "# Load VGG16\n",
        "conv_base = tf.keras.applications.VGG16(weights='imagenet',\n",
        "    include_top=False,\n",
        "    input_shape=(150, 150, 3))\n",
        "\n",
        "conv_base.summary()"
      ],
      "execution_count": 0,
      "outputs": []
    },
    {
      "cell_type": "markdown",
      "metadata": {
        "id": "ADSItcvSHM5W",
        "colab_type": "text"
      },
      "source": [
        "#### Freeze the convolutional base"
      ]
    },
    {
      "cell_type": "code",
      "metadata": {
        "id": "JJZBBRneHM5X",
        "colab_type": "code",
        "colab": {}
      },
      "source": [
        "conv_base.trainable = False"
      ],
      "execution_count": 0,
      "outputs": []
    },
    {
      "cell_type": "markdown",
      "metadata": {
        "id": "dOPotrbbHM5Y",
        "colab_type": "text"
      },
      "source": [
        "#### Build a model using a pre-trained convnet"
      ]
    },
    {
      "cell_type": "code",
      "metadata": {
        "id": "xfN_Qy8KHM5Z",
        "colab_type": "code",
        "colab": {}
      },
      "source": [
        "model_a = tf.keras.Sequential([\n",
        "    conv_base,\n",
        "    tf.keras.layers.Flatten(),\n",
        "    tf.keras.layers.Dense(256, activation=tf.nn.relu),\n",
        "    tf.keras.layers.Dense(1, activation=tf.nn.sigmoid)\n",
        "])\n",
        "\n",
        "model_a.summary()"
      ],
      "execution_count": 0,
      "outputs": []
    },
    {
      "cell_type": "markdown",
      "metadata": {
        "id": "QyXAEeIdHM5a",
        "colab_type": "text"
      },
      "source": [
        "#### Compile the model"
      ]
    },
    {
      "cell_type": "code",
      "metadata": {
        "id": "MCzNbAYuHM5a",
        "colab_type": "code",
        "colab": {}
      },
      "source": [
        "# --fill here-- #"
      ],
      "execution_count": 0,
      "outputs": []
    },
    {
      "cell_type": "code",
      "metadata": {
        "id": "fxD78iu3HM5e",
        "colab_type": "code",
        "colab": {}
      },
      "source": [
        "train_datagen_a = # --fill here-- #\n",
        "test_datagen_a = # --fill here-- #\n",
        "\n",
        "train_generator_a = # --fill here-- #\n",
        "validation_generator_a = # --fill here-- #\n",
        "test_generator_a = # --fill here-- #"
      ],
      "execution_count": 0,
      "outputs": []
    },
    {
      "cell_type": "markdown",
      "metadata": {
        "id": "091Z1FOFHM5g",
        "colab_type": "text"
      },
      "source": [
        "#### Train the model"
      ]
    },
    {
      "cell_type": "code",
      "metadata": {
        "id": "riMud_rwHM5g",
        "colab_type": "code",
        "colab": {}
      },
      "source": [
        "steps_per_epoch = # --fill here-- #\n",
        "epochs = # --fill here-- #\n",
        "validation_steps = # --fill here-- #\n",
        "\n",
        "history = # --fill here-- #"
      ],
      "execution_count": 0,
      "outputs": []
    },
    {
      "cell_type": "code",
      "metadata": {
        "id": "Cho6MbvPHM5i",
        "colab_type": "code",
        "colab": {}
      },
      "source": [
        "plot_history(history)"
      ],
      "execution_count": 0,
      "outputs": []
    },
    {
      "cell_type": "markdown",
      "metadata": {
        "id": "hjZS-z2jHM5k",
        "colab_type": "text"
      },
      "source": [
        "#### Evaluate the model"
      ]
    },
    {
      "cell_type": "code",
      "metadata": {
        "id": "AAdzzxkmHM5k",
        "colab_type": "code",
        "colab": {}
      },
      "source": [
        "test_loss, test_acc = # --fill here-- #\n",
        "print('Test accuracy: %.3f, Test loss: %.3f' % (test_acc,test_loss))"
      ],
      "execution_count": 0,
      "outputs": []
    },
    {
      "cell_type": "markdown",
      "metadata": {
        "id": "6hLkMUE3HM5m",
        "colab_type": "text"
      },
      "source": [
        "### 1.2.3 Fine-tuning a pre-trained model\n",
        "\n",
        "Fine-tuning consists of unfreezing a few of the top layers of a frozen model base used for feature extraction, and jointly training both the newly added part of the model (in this case, the fully connected classifier) and these top layers\n",
        "<br><br><br>\n",
        "<img src=\"http://mlclass.epizy.com/lab1_images_notebook/fine_tuning.png\" width=\"550px\"><br>\n"
      ]
    },
    {
      "cell_type": "code",
      "metadata": {
        "id": "a0aNN9g-HM5m",
        "colab_type": "code",
        "colab": {}
      },
      "source": [
        "# Load a pre trained model and freeze only the first layers\n",
        "conv_base1 = tf.keras.applications.VGG16(weights='imagenet',\n",
        "    include_top=False,\n",
        "    input_shape=(150, 150, 3))\n",
        "\n",
        "conv_base1.summary()\n",
        "\n",
        "conv_base1.trainable = True\n",
        "set_trainable = False\n",
        "\n",
        "# We fine-tune the last convolutional block of the VGG16 network (Conv block 5) and our own fully connected classifier.\n",
        "for layer in conv_base1.layers:\n",
        "    if layer.name == 'block5_conv1':\n",
        "        set_trainable = True\n",
        "    if set_trainable:\n",
        "        layer.trainable = True\n",
        "    else:\n",
        "        layer.trainable = False"
      ],
      "execution_count": 0,
      "outputs": []
    },
    {
      "cell_type": "markdown",
      "metadata": {
        "id": "-mBBO8dKHM5o",
        "colab_type": "text"
      },
      "source": [
        "#### Create the model"
      ]
    },
    {
      "cell_type": "code",
      "metadata": {
        "id": "BeamoLFsHM5o",
        "colab_type": "code",
        "colab": {}
      },
      "source": [
        "fmodel = # --fill here-- #\n",
        "\n",
        "print('This is the number of trainable weights ', len(fmodel.trainable_weights))"
      ],
      "execution_count": 0,
      "outputs": []
    },
    {
      "cell_type": "markdown",
      "metadata": {
        "id": "B1ROMf1aHM5q",
        "colab_type": "text"
      },
      "source": [
        "#### Compile the model"
      ]
    },
    {
      "cell_type": "code",
      "metadata": {
        "id": "KGm1nDPOHM5q",
        "colab_type": "code",
        "colab": {}
      },
      "source": [
        "# --fill here-- #"
      ],
      "execution_count": 0,
      "outputs": []
    },
    {
      "cell_type": "markdown",
      "metadata": {
        "id": "W-6hCYnFHM5r",
        "colab_type": "text"
      },
      "source": [
        "#### Train the model"
      ]
    },
    {
      "cell_type": "code",
      "metadata": {
        "scrolled": false,
        "id": "SICFOoYgHM5s",
        "colab_type": "code",
        "colab": {}
      },
      "source": [
        "steps_per_epoch = # --fill here-- # \n",
        "epochs = # --fill here-- # \n",
        "validation_steps = # --fill here-- # \n",
        "\n",
        "history = # --fill here-- # "
      ],
      "execution_count": 0,
      "outputs": []
    },
    {
      "cell_type": "code",
      "metadata": {
        "id": "801h4AiJHM5w",
        "colab_type": "code",
        "colab": {}
      },
      "source": [
        "plot_history(history)"
      ],
      "execution_count": 0,
      "outputs": []
    },
    {
      "cell_type": "markdown",
      "metadata": {
        "id": "f_MBxwhIHM5x",
        "colab_type": "text"
      },
      "source": [
        "#### Evaluate the model"
      ]
    },
    {
      "cell_type": "code",
      "metadata": {
        "id": "ewSYC6SAHM5y",
        "colab_type": "code",
        "colab": {}
      },
      "source": [
        "test_loss, test_acc = # --fill here-- # \n",
        "print('Test accuracy: %.3f, Test loss: %.3f' % (test_acc,test_loss))"
      ],
      "execution_count": 0,
      "outputs": []
    },
    {
      "cell_type": "markdown",
      "metadata": {
        "id": "hwz6oAM2HM5z",
        "colab_type": "text"
      },
      "source": [
        "## 1.3 Visualizing what convnets learn\n",
        "    1. Visualizing intermediate convnet outputs (intermediate activations)\n",
        "    2. Visualizing heatmaps of class activation in an image (CAM)"
      ]
    },
    {
      "cell_type": "markdown",
      "metadata": {
        "id": "ZAI5zmpcHM50",
        "colab_type": "text"
      },
      "source": [
        "### 1.3.1 Visualizing intermediate convnet outputs (intermediate activations)\n",
        "Visualizing intermediate activations consists of displaying the feature maps that are\n",
        "output by various convolution and pooling layers in a network, given a certain input\n",
        "(the output of a layer is often called its activation, the output of the activation function).\n",
        "This gives a view into how an input is decomposed into the different filters\n",
        "learned by the network\n"
      ]
    },
    {
      "cell_type": "markdown",
      "metadata": {
        "id": "lc0Gt5iMHM50",
        "colab_type": "text"
      },
      "source": [
        "#### Load the model saved before"
      ]
    },
    {
      "cell_type": "code",
      "metadata": {
        "id": "1WNbbNPWHM51",
        "colab_type": "code",
        "colab": {}
      },
      "source": [
        "model = tf.keras.models.load_model('simple_cnn.h5')\n",
        "\n",
        "# Extracts the outputs of the top eight layers\n",
        "layer_outputs = [layer.output for layer in model.layers[:8]] \n",
        "\n",
        "# Creates a model that will return these outputs, given the model input\n",
        "activation_model = tf.keras.models.Model(inputs=model.input, outputs=layer_outputs) "
      ],
      "execution_count": 0,
      "outputs": []
    },
    {
      "cell_type": "code",
      "metadata": {
        "id": "leSg1D05HM53",
        "colab_type": "code",
        "colab": {}
      },
      "source": [
        "def get_image(path,num):\n",
        "    ''' Given a path and a number i, this function return the i-th image of the path '''\n",
        "    fnames = [os.path.join(path, fname) for\n",
        "        fname in os.listdir(path)]\n",
        "    img_path = fnames[num]\n",
        "    img = image.load_img(img_path, target_size=(150, 150))\n",
        "\n",
        "    x = image.img_to_array(img)\n",
        "\n",
        "    img_tensor = np.expand_dims(x, axis=0)\n",
        "    img_tensor /= 255.\n",
        "\n",
        "    return img_tensor"
      ],
      "execution_count": 0,
      "outputs": []
    },
    {
      "cell_type": "code",
      "metadata": {
        "id": "JfXuHydKHM55",
        "colab_type": "code",
        "colab": {}
      },
      "source": [
        "im = get_image(train_cats_dir,2)\n",
        "\n",
        "plt.rcParams[\"axes.grid\"] = False\n",
        "plt.imshow(im[0])"
      ],
      "execution_count": 0,
      "outputs": []
    },
    {
      "cell_type": "code",
      "metadata": {
        "id": "29wmyZBaHyZN",
        "colab_type": "code",
        "colab": {}
      },
      "source": [
        "model.summary()"
      ],
      "execution_count": 0,
      "outputs": []
    },
    {
      "cell_type": "code",
      "metadata": {
        "id": "O1AqoPrjHM56",
        "colab_type": "code",
        "colab": {}
      },
      "source": [
        "# Returns a list of Numpy arrays: one array per layer activation\n",
        "activations = activation_model.predict(im)\n",
        "\n",
        "first_layer_activation = activations[0]\n",
        "plt.matshow(first_layer_activation[0, :, :, 1], cmap='viridis')\n",
        "plt.show()"
      ],
      "execution_count": 0,
      "outputs": []
    },
    {
      "cell_type": "markdown",
      "metadata": {
        "id": "4vZJI7ICHM57",
        "colab_type": "text"
      },
      "source": [
        "#### Visualizing every channel in every intermediate activation"
      ]
    },
    {
      "cell_type": "code",
      "metadata": {
        "scrolled": false,
        "id": "c6xt6jINHM57",
        "colab_type": "code",
        "colab": {}
      },
      "source": [
        "layer_names = []\n",
        "for layer in model.layers[:8]:\n",
        "    layer_names.append(layer.name)\n",
        "    \n",
        "images_per_row = 16\n",
        "\n",
        "for layer_name, layer_activation in zip(layer_names, activations):\n",
        "    n_features = layer_activation.shape[-1]\n",
        "    size = layer_activation.shape[1]\n",
        "    n_cols = n_features // images_per_row\n",
        "    display_grid = np.zeros((size * n_cols, images_per_row * size))\n",
        "    for col in range(n_cols):\n",
        "        for row in range(images_per_row):\n",
        "            channel_image = layer_activation[0,:, :,col * images_per_row + row]\n",
        "            channel_image -= channel_image.mean()\n",
        "            channel_image /= channel_image.std()\n",
        "            channel_image *= 64\n",
        "            channel_image += 128\n",
        "            channel_image = np.clip(channel_image, 0, 255).astype('uint8')\n",
        "            display_grid[col * size : (col + 1) * size,row * size : (row + 1) * size] = channel_image\n",
        "    scale = 1. / size\n",
        "    plt.figure(figsize=(scale * display_grid.shape[1],\n",
        "    scale * display_grid.shape[0]))\n",
        "    plt.title(layer_name)\n",
        "    plt.grid(False)\n",
        "    plt.imshow(display_grid, aspect='auto', cmap='viridis')"
      ],
      "execution_count": 0,
      "outputs": []
    },
    {
      "cell_type": "markdown",
      "metadata": {
        "id": "OwdTuInbHM58",
        "colab_type": "text"
      },
      "source": [
        "Note that there are several filters that are not activated and are left blank. In the first stage, the activations retain almost all of the information present in the initial picture.<br>\n",
        "As we go deeper in the layers, the activations become increasingly abstract and less visually interpretable."
      ]
    },
    {
      "cell_type": "markdown",
      "metadata": {
        "id": "TabpWjHyHM59",
        "colab_type": "text"
      },
      "source": [
        "### 1.3.2 Class Activation Mapping\n",
        "What the CNN is looking?<br>\n",
        "This technique generates class activation maps using the global average pooling (GAP); a class activation map for a particular category indicates the discriminative image regions used by the CNN to identify that category.<br>\n",
        "The procedure for generating these maps is illustrated as follows:\n",
        "<img src=\"http://mlclass.epizy.com/lab1_images_notebook/cam.jpg\" width=\"600px\"><br>\n",
        "Class activation maps could be used to intepret the prediction decision made by the CNN.<br>\n",
        "(Original paper: http://cnnlocalization.csail.mit.edu/Zhou_Learning_Deep_Features_CVPR_2016_paper.pdf)\n"
      ]
    },
    {
      "cell_type": "markdown",
      "metadata": {
        "id": "5RtYWfGzHM5-",
        "colab_type": "text"
      },
      "source": [
        "#### Load ResNet50 pre-trained model with imagenet weights"
      ]
    },
    {
      "cell_type": "code",
      "metadata": {
        "id": "zBsu6scjHM5-",
        "colab_type": "code",
        "colab": {}
      },
      "source": [
        "resnet = tf.keras.applications.ResNet50(weights='imagenet',\n",
        "    include_top=True,\n",
        "    input_shape=(224, 224, 3))\n",
        "\n",
        "resnet.summary()"
      ],
      "execution_count": 0,
      "outputs": []
    },
    {
      "cell_type": "markdown",
      "metadata": {
        "id": "lDi22Ud1HM6A",
        "colab_type": "text"
      },
      "source": [
        "#### Create another model $m_{1}$, that take the same input of ResNet50 but has as output the last activation layer of ResNet50 ( activation_48 )"
      ]
    },
    {
      "cell_type": "code",
      "metadata": {
        "id": "YVDUofr4HM6A",
        "colab_type": "code",
        "colab": {}
      },
      "source": [
        "activation_layer = resnet.get_layer('activation_48')\n",
        "m1 = tf.keras.Model(inputs = resnet.input, outputs = activation_layer.output)"
      ],
      "execution_count": 0,
      "outputs": []
    },
    {
      "cell_type": "markdown",
      "metadata": {
        "id": "5oXH8hl2HM6C",
        "colab_type": "text"
      },
      "source": [
        "#### Get the feaure map weights"
      ]
    },
    {
      "cell_type": "code",
      "metadata": {
        "id": "IYKKMt0THM6C",
        "colab_type": "code",
        "colab": {}
      },
      "source": [
        "final_dense = resnet.get_layer('fc1000')\n",
        "W = final_dense.get_weights()[0]"
      ],
      "execution_count": 0,
      "outputs": []
    },
    {
      "cell_type": "markdown",
      "metadata": {
        "id": "nGysv7a0HM6G",
        "colab_type": "text"
      },
      "source": [
        "#### Load an image (the shape has to coincide to the shape that the model take as input) "
      ]
    },
    {
      "cell_type": "code",
      "metadata": {
        "id": "94leCww1HM6G",
        "colab_type": "code",
        "colab": {}
      },
      "source": [
        "path_picture = # --fill here-- #\n",
        "img = image.load_img(path_picture,target_size =(224,224))\n",
        "\n",
        "# pre-process input\n",
        "x = tf.keras.applications.resnet50.preprocess_input(np.expand_dims(img,0))"
      ],
      "execution_count": 0,
      "outputs": []
    },
    {
      "cell_type": "markdown",
      "metadata": {
        "id": "yitLfdqGHM6I",
        "colab_type": "text"
      },
      "source": [
        "####  Use the output of the model m1 (7x7x2048) and multiply by the weigths (2048x1) for the \"relevant\" class (higher score)"
      ]
    },
    {
      "cell_type": "code",
      "metadata": {
        "id": "cmdzUlAOHM6I",
        "colab_type": "code",
        "colab": {}
      },
      "source": [
        "fmaps = m1.predict(x)[0] # 7 x 7 x 2048\n",
        "\n",
        "# get predicted class by ResNet50\n",
        "probs = # --fill here-- #\n",
        "probs = resnet.predict(x)\n",
        "\n",
        "classnames = tf.keras.applications.resnet50.decode_predictions(probs)[0]\n",
        "print(classnames)\n",
        "\n",
        "classname = classnames[0][1]\n",
        "pred = # --fill here-- #  select max argument of probs[0]\n",
        "\n",
        "#get the 2048 weights for the relevant class\n",
        "w = # --fill here-- #\n",
        "\n",
        "# make the dot product between fmaps and w\n",
        "cam = # --fill here-- # "
      ],
      "execution_count": 0,
      "outputs": []
    },
    {
      "cell_type": "markdown",
      "metadata": {
        "id": "bvsK-ZvsHM6K",
        "colab_type": "text"
      },
      "source": [
        "#### Upsample the output in order to see the discriminative image regions used by the CNN to identify that category"
      ]
    },
    {
      "cell_type": "code",
      "metadata": {
        "id": "sb2RcbSSHM6K",
        "colab_type": "code",
        "colab": {}
      },
      "source": [
        "# upsample to 224 (32x7) \n",
        "cam = # --fill here-- # using scipy.ndimage.zoom\n",
        "\n",
        "plt.figure(figsize=(10,10))\n",
        "\n",
        "plt.subplot(1,2,1)\n",
        "plt.imshow(img, alpha=0.8)\n",
        "plt.imshow(cam, cmap='jet', alpha=0.5)\n",
        "\n",
        "plt.subplot(1,2,2)\n",
        "plt.imshow(img)\n",
        "plt.title(classname)\n",
        "plt.show()"
      ],
      "execution_count": 0,
      "outputs": []
    },
    {
      "cell_type": "markdown",
      "metadata": {
        "id": "fErXhMqwHM6L",
        "colab_type": "text"
      },
      "source": [
        "#### Here you can find a list of pointers to datasets you can play with:\n",
        "https://ai.google/tools/datasets/ <br>\n",
        "https://www.kaggle.com/alxmamaev/flowers-recognition <br>\n",
        "https://www.kaggle.com/kmader/food41/version/5#images.zip <br>\n",
        "https://www.kaggle.com/c/recognizing-faces-in-the-wild/data <br>\n",
        "https://www.kaggle.com/moltean/fruits"
      ]
    }
  ]
}