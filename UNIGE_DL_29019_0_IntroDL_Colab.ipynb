{
  "nbformat": 4,
  "nbformat_minor": 0,
  "metadata": {
    "kernelspec": {
      "name": "python3",
      "display_name": "Python 3"
    },
    "language_info": {
      "codemirror_mode": {
        "name": "ipython",
        "version": 3
      },
      "file_extension": ".py",
      "mimetype": "text/x-python",
      "name": "python",
      "nbconvert_exporter": "python",
      "pygments_lexer": "ipython3",
      "version": "3.7.2"
    },
    "colab": {
      "name": "UNIGE DL 29019 - 0.IntroDL_Colab.ipynb",
      "version": "0.3.2",
      "provenance": [],
      "collapsed_sections": [
        "RFCC8nr27Qns",
        "kGeenEt57Qoh",
        "yOhhkOEZ7Qox"
      ],
      "toc_visible": true,
      "include_colab_link": true
    },
    "accelerator": "GPU"
  },
  "cells": [
    {
      "cell_type": "markdown",
      "metadata": {
        "id": "view-in-github",
        "colab_type": "text"
      },
      "source": [
        "<a href=\"https://colab.research.google.com/github/mallibus/Unige-DL2019/blob/master/UNIGE_DL_29019_0_IntroDL_Colab.ipynb\" target=\"_parent\"><img src=\"https://colab.research.google.com/assets/colab-badge.svg\" alt=\"Open In Colab\"/></a>"
      ]
    },
    {
      "cell_type": "markdown",
      "metadata": {
        "id": "OFcf7Lbf7Qm1",
        "colab_type": "text"
      },
      "source": [
        "# Lab 0. Introduction to Deep Learning"
      ]
    },
    {
      "cell_type": "markdown",
      "metadata": {
        "id": "lNeH0hmL7Qm5",
        "colab_type": "text"
      },
      "source": [
        "## 0.1 Basics of TensorFlow\n",
        "<img src=\"http://mlclass.epizy.com/lab0_images_notebook/tf_logo.png\" width=\"200px\"><br>\n",
        "TensorFlow is an open source machine learning library for research and production.<br>\n",
        "It offers tools, libraries and resources that makes it easy for you to build and deploy ML models.\n",
        "\n",
        "### Most important features:\n",
        "* Easy model building<br>\n",
        "Build and train ML models easily using intuitive high-level APIs like Keras with eager execution, which makes for immediate model iteration and easy debugging.\n",
        "\n",
        "\n",
        "* Robust ML production anywhere<br>\n",
        "Easily train and deploy models in the cloud, on-prem, in the browser, or on-device no matter what language you use.\n",
        "\n",
        "\n",
        "* Powerful experimentation for research<br>\n",
        "A simple and flexible architecture to take new ideas from concept to code, to state-of-the-art models, and to publication faster.\n"
      ]
    },
    {
      "cell_type": "markdown",
      "metadata": {
        "id": "CsoIMbKIoOQl",
        "colab_type": "text"
      },
      "source": [
        "### Note\n",
        "If you cannot see the image in the previous block, click on the following link. <br>\n",
        "http://mlclass.epizy.com/lab0_images_notebook/tf_logo.png\n",
        "\n",
        "You will be redirected to an image. Come back and reload this page. You should be able to see the images on this page now."
      ]
    },
    {
      "cell_type": "markdown",
      "metadata": {
        "id": "SRGdWdQF7Qm8",
        "colab_type": "text"
      },
      "source": [
        "### Import TensorFlow\n",
        "In this tutorial is used **version 1.13.1** that is the last stable version released.<br>\n",
        "Recently version 2.0 is released but is still a preview."
      ]
    },
    {
      "cell_type": "code",
      "metadata": {
        "id": "nkzXJp7O7Qm-",
        "colab_type": "code",
        "outputId": "7e38783b-0bfe-4613-f837-4d3abb43af7e",
        "colab": {
          "base_uri": "https://localhost:8080/",
          "height": 50
        }
      },
      "source": [
        "from __future__ import print_function\n",
        "import tensorflow as tf\n",
        "from tensorflow.python.client import device_lib\n",
        "import time, h5py, os\n",
        "import matplotlib.pyplot as plt\n",
        "from sklearn.model_selection import train_test_split\n",
        "import numpy as np\n",
        "%matplotlib inline\n",
        "\n",
        "tf.enable_eager_execution()\n",
        "\n",
        "print(\"TensorFlow version: {}\".format(tf.__version__))\n",
        "print(\"Eager execution: {}\".format(tf.executing_eagerly()))"
      ],
      "execution_count": 0,
      "outputs": [
        {
          "output_type": "stream",
          "text": [
            "TensorFlow version: 1.14.0\n",
            "Eager execution: True\n"
          ],
          "name": "stdout"
        }
      ]
    },
    {
      "cell_type": "markdown",
      "metadata": {
        "id": "9KgI_bXk7QnD",
        "colab_type": "text"
      },
      "source": [
        "### Data representation for neural network\n",
        "A Tensor consists of a set of primitive values shaped into an array of any number of dimensions.<br>\n",
        "Similar to NumPy ndarray objects, Tensor objects have a data type and a shape.  <br>\n",
        "TensorFlow offers a rich library of operations (tf.add, tf.matmul, tf.linalg.inv etc.) that consume and produce Tensors; these operations automatically convert native Python types.<br>\n",
        "In addition, Tensors can be backed by accelerator memory (like GPU, TPU) and are immutable.<br>\n",
        "\n",
        "The rank of a tf.Tensor object defines its number of dimensions."
      ]
    },
    {
      "cell_type": "code",
      "metadata": {
        "id": "0wd7qkcIr06Y",
        "colab_type": "code",
        "outputId": "7a29e085-d589-44e2-92a0-91feb5e518a8",
        "colab": {
          "base_uri": "https://localhost:8080/",
          "height": 67
        }
      },
      "source": [
        "tf.Variable([[0.1,11.2,4.01,3.5] , [0.2,1,22.1,3.12]], tf.float64)"
      ],
      "execution_count": 0,
      "outputs": [
        {
          "output_type": "execute_result",
          "data": {
            "text/plain": [
              "<tf.Variable 'Variable:0' shape=(2, 4) dtype=float32, numpy=\n",
              "array([[ 0.1 , 11.2 ,  4.01,  3.5 ],\n",
              "       [ 0.2 ,  1.  , 22.1 ,  3.12]], dtype=float32)>"
            ]
          },
          "metadata": {
            "tags": []
          },
          "execution_count": 99
        }
      ]
    },
    {
      "cell_type": "code",
      "metadata": {
        "id": "FRpE40NC7QnE",
        "colab_type": "code",
        "outputId": "570aa6a1-6049-49b0-a4e4-c31cec92e330",
        "colab": {
          "base_uri": "https://localhost:8080/",
          "height": 467
        }
      },
      "source": [
        "#RANK 0 (scalar)\n",
        "#Create tensor of type string with value \"hello world!\" \n",
        "#Create tensor of type int16 with value 17\n",
        "#Create tensor of type float64 with value 3.14159265359\n",
        "#Create tensor of type complex64 with value 10.1 - 1.5j\n",
        "\n",
        "t01 = tf.Variable(\"hello world!\", tf.string)\n",
        "t02 = tf.Variable(17, tf.int16)\n",
        "t03 = tf.Variable(3.14159265359, tf.float64)\n",
        "t04 = tf.Variable(10.1 - 1.5j, tf.complex64)\n",
        "print(\"RANK 0\\n\",t01,\"\\n\",t02,\"\\n\",t03,\"\\n\",t04,\"\\n\")\n",
        "\n",
        "\n",
        "#RANK 1 (vector)\n",
        "#Create tensor of type string with value \"abba\" \n",
        "#Create tensor of type float32 with value [6.14, 3.001]\n",
        "#Create tensor of type int32 with value [1,3,5,7]\n",
        "#Create tensor of type complex64 with value [10.3 - 4.05j, 3.1 - 2.13j]\n",
        "\n",
        "t11 = tf.Variable([\"abba\"], tf.string)\n",
        "t12 = tf.Variable([6.14, 3.001], tf.float32)\n",
        "t13 = tf.Variable([1,3,5,7], tf.int32)\n",
        "t14 = tf.Variable([10.3 - 4.05j, 3.1 - 2.13j], tf.complex64)\n",
        "print(\"RANK 1\\n\",t11,\"\\n\",t12,\"\\n\",t13,\"\\n\",t14,\"\\n\")\n",
        "\n",
        "\n",
        "#RANK 2 (matrix)\n",
        "#Create tensor of type int16 with values [7,4] in the first row and [11,1] in the second row \n",
        "#Create tensor of type bool with values [False,True] in the first row and [False,True] in the second row \n",
        "#Create tensor of type int32 with value [3] in the first row,[2] in the second row,[12] in the third row,[4] in the fourth row\n",
        "#Create tensor of type float64 with values [0.1,11.2,4.01,3.5] in the first row and [0.2,1,22.1,3.12] in the second row \n",
        "\n",
        "t21 = tf.Variable([[7,4],[11,1]], tf.int16)\n",
        "t22 = tf.Variable([[False,True],[False,True]], tf.bool)\n",
        "t23 = tf.Variable([[3],[2] ,[12] ,[4]], tf.int32)\n",
        "t24 = tf.Variable([[0.1,11.2,4.01,3.5] , [0.2,1,22.1,3.12]], tf.float64)\n",
        "print(\"RANK 2\\n\",t21,\"\\n\",t22,\"\\n\",t23,\"\\n\",t24)\n"
      ],
      "execution_count": 0,
      "outputs": [
        {
          "output_type": "stream",
          "text": [
            "RANK 0\n",
            " <tf.Variable 'Variable:0' shape=() dtype=string, numpy=b'hello world!'> \n",
            " <tf.Variable 'Variable:0' shape=() dtype=int32, numpy=17> \n",
            " <tf.Variable 'Variable:0' shape=() dtype=float32, numpy=3.1415927> \n",
            " <tf.Variable 'Variable:0' shape=() dtype=complex128, numpy=(10.1-1.5j)> \n",
            "\n",
            "RANK 1\n",
            " <tf.Variable 'Variable:0' shape=(1,) dtype=string, numpy=array([b'abba'], dtype=object)> \n",
            " <tf.Variable 'Variable:0' shape=(2,) dtype=float32, numpy=array([6.14 , 3.001], dtype=float32)> \n",
            " <tf.Variable 'Variable:0' shape=(4,) dtype=int32, numpy=array([1, 3, 5, 7], dtype=int32)> \n",
            " <tf.Variable 'Variable:0' shape=(2,) dtype=complex128, numpy=array([10.3-4.05j,  3.1-2.13j])> \n",
            "\n",
            "RANK 2\n",
            " <tf.Variable 'Variable:0' shape=(2, 2) dtype=int32, numpy=\n",
            "array([[ 7,  4],\n",
            "       [11,  1]], dtype=int32)> \n",
            " <tf.Variable 'Variable:0' shape=(2, 2) dtype=bool, numpy=\n",
            "array([[False,  True],\n",
            "       [False,  True]])> \n",
            " <tf.Variable 'Variable:0' shape=(4, 1) dtype=int32, numpy=\n",
            "array([[ 3],\n",
            "       [ 2],\n",
            "       [12],\n",
            "       [ 4]], dtype=int32)> \n",
            " <tf.Variable 'Variable:0' shape=(2, 4) dtype=float32, numpy=\n",
            "array([[ 0.1 , 11.2 ,  4.01,  3.5 ],\n",
            "       [ 0.2 ,  1.  , 22.1 ,  3.12]], dtype=float32)>\n"
          ],
          "name": "stdout"
        }
      ]
    },
    {
      "cell_type": "markdown",
      "metadata": {
        "id": "NJfjlfXf7QnJ",
        "colab_type": "text"
      },
      "source": [
        "### Eager execution\n",
        "TensorFlow's eager execution is an imperative programming environment that evaluates operations immediately, without building graphs: operations return concrete values instead of constructing a computational graph to run later.<br>\n",
        "If you enable eager execution, operations like c = tf.matmul(a, b) are executed immediately.<br>\n",
        "However, without eager execution enabled, an operation like tf.matmul does not execute immediately, but, instead, builds a fragment of a TensorFlow graph (in TensorFlow 2.0, all operations will be eagerly executed)."
      ]
    },
    {
      "cell_type": "code",
      "metadata": {
        "id": "gC5zuNiZ7QnK",
        "colab_type": "code",
        "outputId": "147a19c3-9b0e-4f08-89b0-95825d042d6c",
        "colab": {
          "base_uri": "https://localhost:8080/",
          "height": 33
        }
      },
      "source": [
        "a = tf.constant([[2, 8]])     \n",
        "b = tf.constant([[5],[7]])  \n",
        "c = tf.matmul(a, b)\n",
        "print(c)"
      ],
      "execution_count": 0,
      "outputs": [
        {
          "output_type": "stream",
          "text": [
            "tf.Tensor([[66]], shape=(1, 1), dtype=int32)\n"
          ],
          "name": "stdout"
        }
      ]
    },
    {
      "cell_type": "code",
      "metadata": {
        "id": "b-HxvtGSuTGQ",
        "colab_type": "code",
        "outputId": "d78a148c-149b-45fc-d5c1-28d467980aa4",
        "colab": {
          "base_uri": "https://localhost:8080/",
          "height": 67
        }
      },
      "source": [
        "a = tf.constant([[1., 2.]])     \n",
        "b = tf.constant([[5.],[7.]])\n",
        "c = tf.constant([[2., 8.]])     \n",
        "d = tf.constant([[11.],[77.]])\n",
        "\n",
        "\n",
        "tf.math.log(a+tf.math.square(b*c))/(c-d)"
      ],
      "execution_count": 0,
      "outputs": [
        {
          "output_type": "execute_result",
          "data": {
            "text/plain": [
              "<tf.Tensor: id=24571, shape=(2, 2), dtype=float32, numpy=\n",
              "array([[-0.51279116, -2.4596694 ],\n",
              "       [-0.07044271, -0.11668611]], dtype=float32)>"
            ]
          },
          "metadata": {
            "tags": []
          },
          "execution_count": 102
        }
      ]
    },
    {
      "cell_type": "code",
      "metadata": {
        "id": "VX6Gs8re7QnO",
        "colab_type": "code",
        "colab": {}
      },
      "source": [
        "# In TensorFlow, computations can be thought of as graphs;\n",
        "# try to build a more difficult expression  y=log(a+(b*c)^2)/(c-d)\n",
        "\n",
        "def graph(a,b,c,d):\n",
        "    res = y=tf.math.log(a+tf.math.square(b*c))/(c-d)\n",
        "    return res"
      ],
      "execution_count": 0,
      "outputs": []
    },
    {
      "cell_type": "code",
      "metadata": {
        "id": "CiTfVHdM7QnT",
        "colab_type": "code",
        "outputId": "a1e42b1f-c2cf-476e-aafa-65ed72030778",
        "colab": {
          "base_uri": "https://localhost:8080/",
          "height": 67
        }
      },
      "source": [
        "a = tf.constant([[1., 2.]])     \n",
        "b = tf.constant([[5.],[7.]])\n",
        "c = tf.constant([[2., 8.]])     \n",
        "d = tf.constant([[11.],[77.]])\n",
        "\n",
        "# Execute the computation\n",
        "res = graph(a,b,c,d)\n",
        "print(res)"
      ],
      "execution_count": 0,
      "outputs": [
        {
          "output_type": "stream",
          "text": [
            "tf.Tensor(\n",
            "[[-0.51279116 -2.4596694 ]\n",
            " [-0.07044271 -0.11668611]], shape=(2, 2), dtype=float32)\n"
          ],
          "name": "stdout"
        }
      ]
    },
    {
      "cell_type": "markdown",
      "metadata": {
        "id": "FyEYCxlC7QnX",
        "colab_type": "text"
      },
      "source": [
        "If you don't enable eager execution at the beginning of the program, you've to build a graph and run operations using a tf.Session.\n",
        "\n",
        "Example:\n",
        "\n",
        "a = tf.constant([[2, 8]])  \n",
        "b = tf.constant([[5],[7]])  \n",
        "c = tf.matmul(a, b)\n",
        "\n",
        "with tf.Session() as sess:<br>\n",
        "&nbsp;&nbsp;&nbsp;&nbsp;print(sess.run(c))\n"
      ]
    },
    {
      "cell_type": "markdown",
      "metadata": {
        "id": "VV8gwP8I7QnY",
        "colab_type": "text"
      },
      "source": [
        "### Graphical Processing Unit (GPU)\n",
        "\n",
        "The basic architecture of a GPU differs a lot from a CPU; the GPU is optimized for a high computational power and a high throughput.\n",
        "\n",
        "<img src=\"http://mlclass.epizy.com/lab0_images_notebook/cpu_gpu.png\" width=\"500px\"><br>\n",
        "\n",
        "The computation of DNNs is a task that fits excellent on a GPU: there is a large amount of parallelism that can\n",
        "be utilized (the most common kernels are matrix multiply, convolution and functions with no data dependencies at\n",
        "all).<br>\n",
        "In TensorFlow, the supported device types are CPU and GPU; you could use also multiple-GPUs."
      ]
    },
    {
      "cell_type": "code",
      "metadata": {
        "id": "EIvqZ4f37QnZ",
        "colab_type": "code",
        "outputId": "1657e49b-958d-404d-e4e2-ad3ed583a462",
        "colab": {
          "base_uri": "https://localhost:8080/",
          "height": 601
        }
      },
      "source": [
        "if tf.test.is_gpu_available():\n",
        "    print(\"GPU \",tf.test.gpu_device_name(), \" is available\\n\")\n",
        "    \n",
        "# Print list of available devices\n",
        "print(\"Devices available:\\n\\n\",device_lib.list_local_devices())"
      ],
      "execution_count": 0,
      "outputs": [
        {
          "output_type": "stream",
          "text": [
            "GPU  /device:GPU:0  is available\n",
            "\n",
            "Devices available:\n",
            "\n",
            " [name: \"/device:CPU:0\"\n",
            "device_type: \"CPU\"\n",
            "memory_limit: 268435456\n",
            "locality {\n",
            "}\n",
            "incarnation: 9172689221157610775\n",
            ", name: \"/device:XLA_CPU:0\"\n",
            "device_type: \"XLA_CPU\"\n",
            "memory_limit: 17179869184\n",
            "locality {\n",
            "}\n",
            "incarnation: 16245512340323369911\n",
            "physical_device_desc: \"device: XLA_CPU device\"\n",
            ", name: \"/device:XLA_GPU:0\"\n",
            "device_type: \"XLA_GPU\"\n",
            "memory_limit: 17179869184\n",
            "locality {\n",
            "}\n",
            "incarnation: 10655429529530931490\n",
            "physical_device_desc: \"device: XLA_GPU device\"\n",
            ", name: \"/device:GPU:0\"\n",
            "device_type: \"GPU\"\n",
            "memory_limit: 11326753997\n",
            "locality {\n",
            "  bus_id: 1\n",
            "  links {\n",
            "  }\n",
            "}\n",
            "incarnation: 729225830702021918\n",
            "physical_device_desc: \"device: 0, name: Tesla K80, pci bus id: 0000:00:04.0, compute capability: 3.7\"\n",
            "]\n"
          ],
          "name": "stdout"
        }
      ]
    },
    {
      "cell_type": "markdown",
      "metadata": {
        "id": "SkxGlghG7Qnd",
        "colab_type": "text"
      },
      "source": [
        "### Comparison of CPU time and GPU time \n",
        "Below there's an example of the computational time required in the different cases to do matrix multiplication.<br>\n",
        "**What do you expect? Which is faster? Why?**"
      ]
    },
    {
      "cell_type": "code",
      "metadata": {
        "id": "rq2OOj0v7Qng",
        "colab_type": "code",
        "colab": {}
      },
      "source": [
        "def measure(x, steps):\n",
        "    tf.matmul(x, x)\n",
        "    start = time.time()\n",
        "    for i in range(steps):\n",
        "        x = tf.matmul(x, x)\n",
        "          # tf.matmul can return before completing the matrix multiplication\n",
        "          # (e.g., can return after enqueing the operation on a CUDA stream).\n",
        "          # The x.numpy() call below will ensure that all enqueued operations have completed \n",
        "          # (and will also copy the result to host memory, so we're including a little more than \n",
        "          # just the matmul operation time).\n",
        "    _ = x.numpy()\n",
        "    end = time.time()\n",
        "    return end - start"
      ],
      "execution_count": 0,
      "outputs": []
    },
    {
      "cell_type": "code",
      "metadata": {
        "id": "0HviUhQx7Qnm",
        "colab_type": "code",
        "outputId": "06ee45c5-e274-4bf5-8eab-177525be2e4e",
        "colab": {
          "base_uri": "https://localhost:8080/",
          "height": 67
        }
      },
      "source": [
        "shape = (1000, 1000)\n",
        "steps = 200\n",
        "\n",
        "print(\"Time to multiply a {} matrix by itself {} times:\".format(shape, steps))\n",
        "\n",
        "# Run on CPU:\n",
        "with tf.device(\"/cpu:0\"):\n",
        "    print(\"CPU: {} secs\".format(measure(tf.random_normal(shape), steps)))\n",
        "\n",
        "# Run on GPU, if available:\n",
        "if tf.test.is_gpu_available():\n",
        "    with tf.device(\"/gpu:0\"):\n",
        "        print(\"GPU: {} secs\".format(measure(tf.random_normal(shape), steps)))\n",
        "else:\n",
        "    print(\"GPU: not found\")"
      ],
      "execution_count": 0,
      "outputs": [
        {
          "output_type": "stream",
          "text": [
            "Time to multiply a (1000, 1000) matrix by itself 200 times:\n",
            "CPU: 6.4302473068237305 secs\n",
            "GPU: 0.2633204460144043 secs\n"
          ],
          "name": "stdout"
        }
      ]
    },
    {
      "cell_type": "markdown",
      "metadata": {
        "id": "I7T4QGH17Qnr",
        "colab_type": "text"
      },
      "source": [
        "### Automatic Differentiation\n",
        "Automatic differentiation is a technique for optimizing machine learning models.<br>\n",
        "On simple terms, it is a way of automatically computing the derivatives of the output of a function using the **Chain Rule**   (https://en.wikipedia.org/wiki/Chain_rule ).<br>\n",
        "Almost every function can be computed as a composition of simple functions which have simple derivatives; consequently, you can compute the derivative of any function that can be written as composition of simpler functions.<br>\n",
        "Tensorflow uses **Reverse Mode Differentiation**.\n"
      ]
    },
    {
      "cell_type": "markdown",
      "metadata": {
        "id": "RFCC8nr27Qns",
        "colab_type": "text"
      },
      "source": [
        "#### Here you can find a quick explanation on how backpropagation work https://google-developers.appspot.com/machine-learning/crash-course/backprop-scroll/"
      ]
    },
    {
      "cell_type": "markdown",
      "metadata": {
        "id": "fDSg-A1h7Qnu",
        "colab_type": "text"
      },
      "source": [
        "TensorFlow provides the tf.GradientTape API that allow to compute the gradient of a computation w.r.t. its input variables."
      ]
    },
    {
      "cell_type": "code",
      "metadata": {
        "id": "-2T6RaVB7Qnw",
        "colab_type": "code",
        "outputId": "bcd0116e-0841-4ba5-dd9b-d1f7ac51b1d7",
        "colab": {
          "base_uri": "https://localhost:8080/",
          "height": 33
        }
      },
      "source": [
        "# Compute the first derivative of function y=x^3 at x=2\n",
        "x = tf.constant(2.0)\n",
        "\n",
        "with tf.GradientTape() as g:\n",
        "    g.watch(x)\n",
        "    y = tf.pow(x,3)\n",
        "    \n",
        "dy_dx = g.gradient(y, x) \n",
        "print(dy_dx)"
      ],
      "execution_count": 0,
      "outputs": [
        {
          "output_type": "stream",
          "text": [
            "tf.Tensor(12.0, shape=(), dtype=float32)\n"
          ],
          "name": "stdout"
        }
      ]
    },
    {
      "cell_type": "markdown",
      "metadata": {
        "id": "01K1JQrRxMqf",
        "colab_type": "text"
      },
      "source": [
        ""
      ]
    },
    {
      "cell_type": "markdown",
      "metadata": {
        "id": "RKdBgtvZ7Qn0",
        "colab_type": "text"
      },
      "source": [
        "By default, the resources held by a GradientTape are released as soon as GradientTape.gradient() method is called.<br>\n",
        "To compute multiple gradients over the same computation,you have to create a persistent gradient tape.<br>\n",
        "This allows multiple calls to the gradient() method as resources are released when the tape object is garbage collected."
      ]
    },
    {
      "cell_type": "code",
      "metadata": {
        "id": "28cu7bFkyvR-",
        "colab_type": "code",
        "outputId": "df03c850-a47c-4d6c-c240-671319f31bd5",
        "colab": {
          "base_uri": "https://localhost:8080/",
          "height": 33
        }
      },
      "source": [
        "x = tf.constant(3.0)\n",
        "y = x ** 2\n",
        "y ** 2"
      ],
      "execution_count": 0,
      "outputs": [
        {
          "output_type": "execute_result",
          "data": {
            "text/plain": [
              "<tf.Tensor: id=25033, shape=(), dtype=float32, numpy=81.0>"
            ]
          },
          "metadata": {
            "tags": []
          },
          "execution_count": 109
        }
      ]
    },
    {
      "cell_type": "code",
      "metadata": {
        "id": "p0G2oKGk7Qn1",
        "colab_type": "code",
        "outputId": "05063c8f-044f-4d6e-f6a8-d0986f5d6a85",
        "colab": {
          "base_uri": "https://localhost:8080/",
          "height": 33
        }
      },
      "source": [
        "# Compute the first and second derivative of function y=x^4 at x=3\n",
        "x = tf.constant(3.0)\n",
        "\n",
        "with tf.GradientTape(persistent=True) as g:\n",
        "    g.watch(x)\n",
        "    y = x ** 2\n",
        "    z = y ** 2\n",
        "\n",
        "dz_dx = g.gradient(z, x)  # first derivative\n",
        "dy_dx = g.gradient(y, x) # second derivative\n",
        "print(dz_dx,dy_dx)\n",
        "del g  # Drop the reference to the tape"
      ],
      "execution_count": 0,
      "outputs": [
        {
          "output_type": "stream",
          "text": [
            "tf.Tensor(108.0, shape=(), dtype=float32) tf.Tensor(6.0, shape=(), dtype=float32)\n"
          ],
          "name": "stdout"
        }
      ]
    },
    {
      "cell_type": "markdown",
      "metadata": {
        "id": "Uv-BJxLy7Qn4",
        "colab_type": "text"
      },
      "source": [
        "### Keras\n",
        "<img src=\"http://mlclass.epizy.com/lab0_images_notebook/keras.png\" width=\"300px\"><br>\n",
        "\n",
        "Keras is a high-level neural networks API, written in Python and capable of running on top of TensorFlow.<br>\n",
        "It allows for easy and fast prototyping and supports both convolutional networks and recurrent networks.<br>\n",
        "### Most important features:\n",
        "* User friendliness\n",
        "* Modularity\n",
        "* Easy extensibility"
      ]
    },
    {
      "cell_type": "markdown",
      "metadata": {
        "id": "wqASsWEs7Qn6",
        "colab_type": "text"
      },
      "source": [
        "### Build a Single Layer Perceptron\n",
        "Let's build a single layer perceptron composed by one dense layer.\n",
        "\n",
        "<img src=\"http://mlclass.epizy.com/lab0_images_notebook/simple_nn.png\" width=\"500px\"><br>\n"
      ]
    },
    {
      "cell_type": "code",
      "metadata": {
        "id": "OAYLjoij2a9_",
        "colab_type": "code",
        "outputId": "3593cbf3-922d-43ee-e345-7fa28c940668",
        "colab": {
          "base_uri": "https://localhost:8080/",
          "height": 33
        }
      },
      "source": [
        "tf.constant([[1.,2.]]) @ tf.constant([[1.],[2.]])"
      ],
      "execution_count": 0,
      "outputs": [
        {
          "output_type": "execute_result",
          "data": {
            "text/plain": [
              "<tf.Tensor: id=25118, shape=(1, 1), dtype=float32, numpy=array([[5.]], dtype=float32)>"
            ]
          },
          "metadata": {
            "tags": []
          },
          "execution_count": 111
        }
      ]
    },
    {
      "cell_type": "code",
      "metadata": {
        "id": "EF-qeCsHzwsB",
        "colab_type": "code",
        "outputId": "b5e7d29a-588a-416c-b24d-f073a368d7c6",
        "colab": {
          "base_uri": "https://localhost:8080/",
          "height": 33
        }
      },
      "source": [
        "x = tf.constant([[1.,2.]])\n",
        "W = tf.constant([[1.,1.]])\n",
        "b = tf.constant(1.)\n",
        "\n",
        "tf.sigmoid(tf.tensordot(W,x,(1,1))+b)"
      ],
      "execution_count": 0,
      "outputs": [
        {
          "output_type": "execute_result",
          "data": {
            "text/plain": [
              "<tf.Tensor: id=25135, shape=(1, 1), dtype=float32, numpy=array([[0.98201376]], dtype=float32)>"
            ]
          },
          "metadata": {
            "tags": []
          },
          "execution_count": 112
        }
      ]
    },
    {
      "cell_type": "code",
      "metadata": {
        "id": "IC8D0f5G7Qn8",
        "colab_type": "code",
        "colab": {}
      },
      "source": [
        "def one_dense_layer(x, n_in, n_out):\n",
        "  \n",
        "    # n_in: number of inputs, n_out: number of outputs\n",
        "    # y = sigmoid(W*x + b)\n",
        "    # W = [1,1]\n",
        "    # b = 1\n",
        "    \n",
        "  #x = tf.constant([[1.,2.]], shape=(1,2))\n",
        "  W = tf.constant([[1.,1.]])\n",
        "  b = tf.constant(1.)\n",
        "    \n",
        "  out =  tf.sigmoid(tf.tensordot(W,x,(1,1))+b)\n",
        "  return out"
      ],
      "execution_count": 0,
      "outputs": []
    },
    {
      "cell_type": "code",
      "metadata": {
        "id": "4XoCVa627Qn_",
        "colab_type": "code",
        "outputId": "40a0fe6d-0670-413b-8e3e-f1f9123b46e8",
        "colab": {
          "base_uri": "https://localhost:8080/",
          "height": 33
        }
      },
      "source": [
        "x_input = tf.constant([[1,2.]], shape=(1,2))\n",
        "\n",
        "n_in = 2\n",
        "n_out = 2\n",
        "\n",
        "res = one_dense_layer(x_input,n_in,n_out)\n",
        "print(res)"
      ],
      "execution_count": 0,
      "outputs": [
        {
          "output_type": "stream",
          "text": [
            "tf.Tensor([[0.98201376]], shape=(1, 1), dtype=float32)\n"
          ],
          "name": "stdout"
        }
      ]
    },
    {
      "cell_type": "markdown",
      "metadata": {
        "id": "lR9CYdPZ7QoE",
        "colab_type": "text"
      },
      "source": [
        "### Build the same Single Layer Perceptron with Keras"
      ]
    },
    {
      "cell_type": "code",
      "metadata": {
        "id": "gRjEfBqB4xL_",
        "colab_type": "code",
        "outputId": "6e7f1684-2e62-4dbb-85de-98f3e00226f8",
        "colab": {
          "base_uri": "https://localhost:8080/",
          "height": 33
        }
      },
      "source": [
        "n_input_nodes = 2\n",
        "n_output_nodes = 2\n",
        "\n",
        "model = tf.keras.Sequential()\n",
        "\n",
        "tf.keras.layers.Dense(n_output_nodes, activation='sigmoid', \n",
        "                      use_bias=True, kernel_initializer='ones', \n",
        "                      bias_initializer='ones',\n",
        "                      input_shape=(n_input_nodes,))\n"
      ],
      "execution_count": 0,
      "outputs": [
        {
          "output_type": "execute_result",
          "data": {
            "text/plain": [
              "<tensorflow.python.keras.layers.core.Dense at 0x7f4a98b592e8>"
            ]
          },
          "metadata": {
            "tags": []
          },
          "execution_count": 115
        }
      ]
    },
    {
      "cell_type": "code",
      "metadata": {
        "id": "TnG_Y7aS7QoF",
        "colab_type": "code",
        "colab": {}
      },
      "source": [
        "# Define the number of inputs and outputs\n",
        "n_input_nodes = 2\n",
        "n_output_nodes = 2\n",
        "\n",
        "# First define the model \n",
        "model = tf.keras.Sequential() # model lets us define a linear stack of network layers.\n",
        "\n",
        "# define a single fully connected network layer\n",
        "# look at https://keras.io/layers/core/ to see which parameters takes as input\n",
        "dense_layer = tf.keras.layers.Dense(n_output_nodes, \n",
        "                                    activation='sigmoid', \n",
        "                                    use_bias=True, \n",
        "                                    kernel_initializer='ones', \n",
        "                                    bias_initializer='ones',\n",
        "                                    input_shape=(n_input_nodes,))\n",
        "\n",
        "# Add the dense layer to the model using add() function\n",
        "model.add(dense_layer)"
      ],
      "execution_count": 0,
      "outputs": []
    },
    {
      "cell_type": "code",
      "metadata": {
        "id": "1fSteoDv7QoJ",
        "colab_type": "code",
        "outputId": "635d3a61-d3d6-4846-95cd-6838b782c970",
        "colab": {
          "base_uri": "https://localhost:8080/",
          "height": 33
        }
      },
      "source": [
        "# Test model\n",
        "x_input = tf.constant([[1.,2.]], shape=(1,2))\n",
        "print(model(x_input))"
      ],
      "execution_count": 0,
      "outputs": [
        {
          "output_type": "stream",
          "text": [
            "tf.Tensor([[0.98201376 0.98201376]], shape=(1, 2), dtype=float32)\n"
          ],
          "name": "stdout"
        }
      ]
    },
    {
      "cell_type": "code",
      "metadata": {
        "id": "_V4k9SV-7QoN",
        "colab_type": "code",
        "outputId": "eeaa4acd-f7d4-4393-e62b-cd0a1bfc6698",
        "colab": {
          "base_uri": "https://localhost:8080/",
          "height": 33
        }
      },
      "source": [
        "# Compare the results obtained\n",
        "print(tf.reduce_all(tf.equal(model(x_input),one_dense_layer(x_input, n_in=n_in, n_out=n_out))))"
      ],
      "execution_count": 0,
      "outputs": [
        {
          "output_type": "stream",
          "text": [
            "tf.Tensor(True, shape=(), dtype=bool)\n"
          ],
          "name": "stdout"
        }
      ]
    },
    {
      "cell_type": "markdown",
      "metadata": {
        "id": "2BtFApPA7QoR",
        "colab_type": "text"
      },
      "source": [
        "### Build a Multilayer perceptron\n",
        "Let's build a multilayer perceptron; MLPs are fully connected, each node in one layer connects with a certain weight to every node in the following layer.\n",
        "\n",
        "<img src=\"http://mlclass.epizy.com/lab0_images_notebook/mlp.png\" width=\"500px\"><br>\n",
        "\n",
        "Try to build one composed by two hidden dense layer with ReLU activation and one dense output layer(units=1) with sigmoid activation."
      ]
    },
    {
      "cell_type": "code",
      "metadata": {
        "id": "MyaSr2017QoT",
        "colab_type": "code",
        "outputId": "67c33b45-98b9-445d-cf31-cceb0bfa40b8",
        "colab": {
          "base_uri": "https://localhost:8080/",
          "height": 1000
        }
      },
      "source": [
        "# Generate dummy data\n",
        "data = np.random.random((1000, 100))\n",
        "labels = np.random.randint(2, size=(1000, 1))\n",
        "\n",
        "units = 32\n",
        "input_dim = 100\n",
        "\n",
        "model = tf.keras.Sequential()\n",
        "model.add(tf.keras.layers.Dense(units, \n",
        "                                    activation='relu', \n",
        "                                    use_bias=True, \n",
        "                                    input_shape=(input_dim,)))\n",
        "\n",
        "model.add(tf.keras.layers.Dense(units, \n",
        "                                    activation='relu', \n",
        "                                    use_bias=True))\n",
        "\n",
        "model.add(tf.keras.layers.Dense(1, \n",
        "                                    activation='sigmoid', \n",
        "                                    use_bias=True))\n",
        "# Compile the model\n",
        "model.compile(optimizer='rmsprop',\n",
        "              loss='binary_crossentropy',\n",
        "              metrics=['accuracy'])\n",
        "\n",
        "\n",
        "# Train the model, iterating on the data in batches of 32 samples\n",
        "model.fit(data, labels, epochs=30, batch_size=32)"
      ],
      "execution_count": 0,
      "outputs": [
        {
          "output_type": "stream",
          "text": [
            "Epoch 1/30\n",
            "1000/1000 [==============================] - 0s 260us/sample - loss: 0.7034 - acc: 0.5140\n",
            "Epoch 2/30\n",
            "1000/1000 [==============================] - 0s 93us/sample - loss: 0.6923 - acc: 0.5150\n",
            "Epoch 3/30\n",
            "1000/1000 [==============================] - 0s 90us/sample - loss: 0.6863 - acc: 0.5470\n",
            "Epoch 4/30\n",
            "1000/1000 [==============================] - 0s 100us/sample - loss: 0.6832 - acc: 0.5550\n",
            "Epoch 5/30\n",
            "1000/1000 [==============================] - 0s 114us/sample - loss: 0.6809 - acc: 0.5650\n",
            "Epoch 6/30\n",
            "1000/1000 [==============================] - 0s 97us/sample - loss: 0.6725 - acc: 0.5770\n",
            "Epoch 7/30\n",
            "1000/1000 [==============================] - 0s 95us/sample - loss: 0.6704 - acc: 0.5960\n",
            "Epoch 8/30\n",
            "1000/1000 [==============================] - 0s 99us/sample - loss: 0.6669 - acc: 0.5910\n",
            "Epoch 9/30\n",
            "1000/1000 [==============================] - 0s 95us/sample - loss: 0.6619 - acc: 0.6150\n",
            "Epoch 10/30\n",
            "1000/1000 [==============================] - 0s 102us/sample - loss: 0.6588 - acc: 0.6200\n",
            "Epoch 11/30\n",
            "1000/1000 [==============================] - 0s 102us/sample - loss: 0.6515 - acc: 0.6260\n",
            "Epoch 12/30\n",
            "1000/1000 [==============================] - 0s 92us/sample - loss: 0.6451 - acc: 0.6430\n",
            "Epoch 13/30\n",
            "1000/1000 [==============================] - 0s 96us/sample - loss: 0.6421 - acc: 0.6410\n",
            "Epoch 14/30\n",
            "1000/1000 [==============================] - 0s 100us/sample - loss: 0.6332 - acc: 0.6510\n",
            "Epoch 15/30\n",
            "1000/1000 [==============================] - 0s 116us/sample - loss: 0.6282 - acc: 0.6550\n",
            "Epoch 16/30\n",
            "1000/1000 [==============================] - 0s 95us/sample - loss: 0.6237 - acc: 0.6730\n",
            "Epoch 17/30\n",
            "1000/1000 [==============================] - 0s 96us/sample - loss: 0.6160 - acc: 0.6690\n",
            "Epoch 18/30\n",
            "1000/1000 [==============================] - 0s 101us/sample - loss: 0.6006 - acc: 0.6870\n",
            "Epoch 19/30\n",
            "1000/1000 [==============================] - 0s 97us/sample - loss: 0.6043 - acc: 0.6890\n",
            "Epoch 20/30\n",
            "1000/1000 [==============================] - 0s 95us/sample - loss: 0.5922 - acc: 0.6970\n",
            "Epoch 21/30\n",
            "1000/1000 [==============================] - 0s 91us/sample - loss: 0.5874 - acc: 0.7100\n",
            "Epoch 22/30\n",
            "1000/1000 [==============================] - 0s 103us/sample - loss: 0.5762 - acc: 0.7170\n",
            "Epoch 23/30\n",
            "1000/1000 [==============================] - 0s 100us/sample - loss: 0.5637 - acc: 0.7310\n",
            "Epoch 24/30\n",
            "1000/1000 [==============================] - 0s 92us/sample - loss: 0.5626 - acc: 0.7370\n",
            "Epoch 25/30\n",
            "1000/1000 [==============================] - 0s 105us/sample - loss: 0.5561 - acc: 0.7310\n",
            "Epoch 26/30\n",
            "1000/1000 [==============================] - 0s 94us/sample - loss: 0.5448 - acc: 0.7470\n",
            "Epoch 27/30\n",
            "1000/1000 [==============================] - 0s 94us/sample - loss: 0.5398 - acc: 0.7480\n",
            "Epoch 28/30\n",
            "1000/1000 [==============================] - 0s 107us/sample - loss: 0.5256 - acc: 0.7570\n",
            "Epoch 29/30\n",
            "1000/1000 [==============================] - 0s 95us/sample - loss: 0.5221 - acc: 0.7510\n",
            "Epoch 30/30\n",
            "1000/1000 [==============================] - 0s 97us/sample - loss: 0.5106 - acc: 0.7560\n"
          ],
          "name": "stdout"
        },
        {
          "output_type": "execute_result",
          "data": {
            "text/plain": [
              "<tensorflow.python.keras.callbacks.History at 0x7f4a98871550>"
            ]
          },
          "metadata": {
            "tags": []
          },
          "execution_count": 119
        }
      ]
    },
    {
      "cell_type": "code",
      "metadata": {
        "id": "ilE7spJuBIWd",
        "colab_type": "code",
        "outputId": "cca1d370-47f2-40f7-a538-a1a36574d406",
        "colab": {
          "base_uri": "https://localhost:8080/",
          "height": 250
        }
      },
      "source": [
        "model.summary()"
      ],
      "execution_count": 0,
      "outputs": [
        {
          "output_type": "stream",
          "text": [
            "Model: \"sequential_17\"\n",
            "_________________________________________________________________\n",
            "Layer (type)                 Output Shape              Param #   \n",
            "=================================================================\n",
            "dense_23 (Dense)             (None, 32)                3232      \n",
            "_________________________________________________________________\n",
            "dense_24 (Dense)             (None, 32)                1056      \n",
            "_________________________________________________________________\n",
            "dense_25 (Dense)             (None, 1)                 33        \n",
            "=================================================================\n",
            "Total params: 4,321\n",
            "Trainable params: 4,321\n",
            "Non-trainable params: 0\n",
            "_________________________________________________________________\n"
          ],
          "name": "stdout"
        }
      ]
    },
    {
      "cell_type": "markdown",
      "metadata": {
        "id": "cUOo1x6_7Qoc",
        "colab_type": "text"
      },
      "source": [
        "## 0.2 Build a Deep Neural Network \n",
        "*  Import the dataset\n",
        "*  Build a model\n",
        "*  Train the model \n",
        "*  Evaluate the model"
      ]
    },
    {
      "cell_type": "markdown",
      "metadata": {
        "id": "PrmmAxUg7Qod",
        "colab_type": "text"
      },
      "source": [
        "### Import Fashion-MNIST Dataset\n",
        "Fashion-MNIST is a dataset of Zalando’s article images consisting of a training set of 60,000 examples and a test set of 10,000 examples. <br>\n",
        "Each example is a 28×28 grayscale image, associated with a label from 10 classes.<br>\n",
        "<img src=\"http://mlclass.epizy.com/lab0_images_notebook/fashion-mnist.png\" width=\"400px\"><br>\n",
        "\n"
      ]
    },
    {
      "cell_type": "code",
      "metadata": {
        "id": "sb26fn5EBa7i",
        "colab_type": "code",
        "colab": {}
      },
      "source": [
        "mnist_fashion = tf.keras.datasets.fashion_mnist\n",
        "\n",
        "(x_learn, y_learn),(x_test, y_test) = mnist_fashion.load_data()"
      ],
      "execution_count": 0,
      "outputs": []
    },
    {
      "cell_type": "code",
      "metadata": {
        "id": "K6pVQ_rD7Qoe",
        "colab_type": "code",
        "outputId": "24a42bdd-4477-4019-e160-8abe019ba390",
        "colab": {
          "base_uri": "https://localhost:8080/",
          "height": 67
        }
      },
      "source": [
        "mnist_fashion = tf.keras.datasets.fashion_mnist\n",
        "\n",
        "(x_learn, y_learn),(x_test, y_test) = mnist_fashion.load_data()\n",
        "\n",
        "## normalize data  \n",
        "print(x_learn.min(),x_learn.max())\n",
        "\n",
        "x_learn, x_test = x_learn/255, x_test/255\n",
        "\n",
        "print(x_learn.min(),x_learn.max()) \n",
        "\n",
        "x_train, x_val, y_train, y_val =  train_test_split( x_learn, y_learn, test_size=0.2)\n",
        "\n",
        "print(x_train.shape, x_val.shape, x_test.shape)"
      ],
      "execution_count": 0,
      "outputs": [
        {
          "output_type": "stream",
          "text": [
            "0 255\n",
            "0.0 1.0\n",
            "(48000, 28, 28) (12000, 28, 28) (10000, 28, 28)\n"
          ],
          "name": "stdout"
        }
      ]
    },
    {
      "cell_type": "markdown",
      "metadata": {
        "id": "kGeenEt57Qoh",
        "colab_type": "text"
      },
      "source": [
        "#### Plot some sample from the training set"
      ]
    },
    {
      "cell_type": "code",
      "metadata": {
        "id": "8sKvHB0G7Qoj",
        "colab_type": "code",
        "outputId": "33330af4-efb7-460b-aa20-d662dec0a22c",
        "colab": {
          "base_uri": "https://localhost:8080/",
          "height": 375
        }
      },
      "source": [
        "class_names = ['T-shirt/top', 'Trouser', 'Pullover', 'Dress', 'Coat', \n",
        "               'Sandal', 'Shirt', 'Sneaker', 'Bag', 'Ankle boot']\n",
        "\n",
        "plt.figure(figsize=(6,6))\n",
        "for i in range(16):\n",
        "    plt.subplot(4,4,i+1)\n",
        "    plt.xticks([])\n",
        "    plt.yticks([])\n",
        "    plt.grid(False)\n",
        "    plt.imshow(x_train[i], cmap=plt.cm.binary)\n",
        "    plt.xlabel(class_names[y_train[i]])\n",
        "plt.show()"
      ],
      "execution_count": 0,
      "outputs": [
        {
          "output_type": "display_data",
          "data": {
            "image/png": "[encoded data removed]",
            "text/plain": [
              "<Figure size 432x432 with 16 Axes>"
            ]
          },
          "metadata": {
            "tags": []
          }
        }
      ]
    },
    {
      "cell_type": "markdown",
      "metadata": {
        "id": "bqjhJ9kA7Qom",
        "colab_type": "text"
      },
      "source": [
        "### Build a Model\n",
        "\n",
        "<img src=\"http://mlclass.epizy.com/lab0_images_notebook/nn.png\" width=\"400px\"><br>\n",
        "\n",
        "#### What is a DNN?\n",
        "\n",
        "It is a neural network composed by many layers and consequently it has a deeper structure.\n",
        "\n",
        "#### How many layers?\n",
        "\n",
        "It depends on different factors: for example on the data available, on the complexity of the problem, on the computational power and so on.\n",
        "\n",
        "#### Why add non-linearity?\n",
        "<br>\n",
        "<img src=\"http://mlclass.epizy.com/lab0_images_notebook/non-linearity.png\" width=\"700px\"><br>\n",
        "\n",
        "#### Which activation functions?\n",
        "\n",
        "There exists different choices, one of the most used is Relu but it depends on the data and on the network architecture.\n",
        "<br><br>\n",
        "<img src=\"http://mlclass.epizy.com/lab0_images_notebook/activation.png\" width=\"600px\"><br>\n"
      ]
    },
    {
      "cell_type": "code",
      "metadata": {
        "id": "qswH9DCR7Qon",
        "colab_type": "code",
        "colab": {}
      },
      "source": [
        "# Network Parameters\n",
        "num_classes = 10 # Fashion-MNIST classes"
      ],
      "execution_count": 0,
      "outputs": []
    },
    {
      "cell_type": "markdown",
      "metadata": {
        "id": "PU0ptXRR7Qor",
        "colab_type": "text"
      },
      "source": [
        "#### Build a model with this structure: Flatten+Dense(ReLU)+Dense(ReLU)+Dense(ReLU)+Dense(ReLU)+Dense(softmax)"
      ]
    },
    {
      "cell_type": "code",
      "metadata": {
        "id": "j2LcKru0EcgU",
        "colab_type": "code",
        "outputId": "8ee8c6b4-ab44-45f0-83a0-c41a68ede4a9",
        "colab": {
          "base_uri": "https://localhost:8080/",
          "height": 317
        }
      },
      "source": [
        "\n",
        "units = 128\n",
        "\n",
        "model = tf.keras.Sequential()\n",
        "\n",
        "model.add(tf.keras.layers.Flatten(input_shape=(28,28)))\n",
        "model.add(tf.keras.layers.Dense(units, \n",
        "                                    activation='relu', \n",
        "                                    use_bias=True))\n",
        "model.add(tf.keras.layers.Dense(units, \n",
        "                                    activation='relu', \n",
        "                                    use_bias=True))\n",
        "model.add(tf.keras.layers.Dense(units, \n",
        "                                    activation='relu', \n",
        "                                    use_bias=True))\n",
        "model.add(tf.keras.layers.Dense(num_classes, \n",
        "                                    activation='softmax', \n",
        "                                    use_bias=True))\n",
        "          \n",
        "model.summary()"
      ],
      "execution_count": 0,
      "outputs": [
        {
          "output_type": "stream",
          "text": [
            "Model: \"sequential_20\"\n",
            "_________________________________________________________________\n",
            "Layer (type)                 Output Shape              Param #   \n",
            "=================================================================\n",
            "flatten_2 (Flatten)          (None, 784)               0         \n",
            "_________________________________________________________________\n",
            "dense_34 (Dense)             (None, 128)               100480    \n",
            "_________________________________________________________________\n",
            "dense_35 (Dense)             (None, 128)               16512     \n",
            "_________________________________________________________________\n",
            "dense_36 (Dense)             (None, 128)               16512     \n",
            "_________________________________________________________________\n",
            "dense_37 (Dense)             (None, 10)                1290      \n",
            "=================================================================\n",
            "Total params: 134,794\n",
            "Trainable params: 134,794\n",
            "Non-trainable params: 0\n",
            "_________________________________________________________________\n"
          ],
          "name": "stdout"
        }
      ]
    },
    {
      "cell_type": "code",
      "metadata": {
        "id": "B2xzZJL77Qos",
        "colab_type": "code",
        "colab": {}
      },
      "source": [
        "# https://keras.io/layers/core/\n",
        "#model = # --fill here-- # "
      ],
      "execution_count": 0,
      "outputs": []
    },
    {
      "cell_type": "markdown",
      "metadata": {
        "id": "55imnlD37Qox",
        "colab_type": "text"
      },
      "source": [
        "###  Model parameters\n",
        "There are many parameters to choose from: the Optimizer, the Loss Function and the Metrics to use.<br>\n",
        "\n",
        "**Loss functions** are used to compare the network's predicted output  with the real output, in each pass of the backpropagations algorithm; loss functions are used to tell the model how the weights should be updated.<br>\n",
        "Common loss functions are: mean-squared error, cross-entropy, and so on...<br><br>\n",
        "**Metrics** are used to evaluate a model; common metrics are precision, recall, accuracy, auc,..<br>\n",
        "\n",
        "The update rules of the weights are determined by the **Optimizer**.<br>\n",
        "The performance and update speed may heavily vary from optimizer to optimizer; in choosing an optimizer what's important to consider is the network depth, the type of layers and the type of data.<br>\n",
        "The gifs below give an idea on how different Optimizers work.<br>\n",
        "\n",
        "<img src=\"http://mlclass.epizy.com/lab0_images_notebook/optimizer.gif\" width=\"500px\" align=\"left\">\n",
        "<img src=\"http://mlclass.epizy.com/lab0_images_notebook/optimizer1.gif\" width=\"360px\" align=\"right\">\n",
        "\n"
      ]
    },
    {
      "cell_type": "markdown",
      "metadata": {
        "id": "yOhhkOEZ7Qox",
        "colab_type": "text"
      },
      "source": [
        "#### Configures the model for training"
      ]
    },
    {
      "cell_type": "code",
      "metadata": {
        "id": "XTYnMFr87Qoy",
        "colab_type": "code",
        "colab": {}
      },
      "source": [
        "# Optimizers    https://www.tensorflow.org/api_docs/python/tf/keras/optimizers\n",
        "adam = tf.keras.optimizers.Adam(lr=0.001, beta_1=0.9, beta_2=0.999, epsilon=None, decay=0.0, amsgrad=False)\n",
        "sgd = tf.keras.optimizers.SGD(lr=0.001, momentum=0.0, decay=0.0, nesterov=False)\n",
        "adad = tf.keras.optimizers.Adadelta(lr=1.0,rho=0.95,epsilon=None,decay=0.0)\n",
        "adag = tf.keras.optimizers.Adagrad(lr=0.01,epsilon=None,decay=0.0)\n",
        "adamax = tf.keras.optimizers.Adamax(lr=0.002,beta_1=0.9,beta_2=0.999,epsilon=None,decay=0.0)\n",
        "nadam = tf.keras.optimizers.Nadam(lr=0.002,beta_1=0.9,beta_2=0.999,epsilon=None,schedule_decay=0.004)\n",
        "rms = tf.keras.optimizers.RMSprop(lr=0.001,rho=0.9,epsilon=None,decay=0.0)\n",
        "\n",
        "# Losses    https://keras.io/losses/\n",
        "loss = ['sparse_categorical_crossentropy','mean_squared_error','mean_absolute_error',\n",
        "        'categorical_crossentropy','categorical_hinge']\n",
        "\n",
        "# Metrics    https://www.tensorflow.org/api_docs/python/tf/metrics\n",
        "metrics = ['accuracy','precision','recall']"
      ],
      "execution_count": 0,
      "outputs": []
    },
    {
      "cell_type": "code",
      "metadata": {
        "id": "bLlKcQFf7Qo0",
        "colab_type": "code",
        "colab": {}
      },
      "source": [
        "# Compile the model\n",
        "model.compile(optimizer=adam,\n",
        "              loss=loss[0],\n",
        "              metrics=[metrics[0]])"
      ],
      "execution_count": 0,
      "outputs": []
    },
    {
      "cell_type": "markdown",
      "metadata": {
        "id": "cl6DdVnH7Qo2",
        "colab_type": "text"
      },
      "source": [
        "### Train the model \n",
        "The batch size is a number of samples processed before the model is updated.<br>\n",
        "The number of epochs is the number of complete passes through the training dataset."
      ]
    },
    {
      "cell_type": "code",
      "metadata": {
        "id": "eGmiSRiH7Qo3",
        "colab_type": "code",
        "outputId": "658cbf73-a655-4c24-e52b-3827ca7dab48",
        "colab": {
          "base_uri": "https://localhost:8080/",
          "height": 1000
        }
      },
      "source": [
        "batch_size = 128\n",
        "epochs = 50\n",
        "history = model.fit(x_train, y_train, batch_size=batch_size, validation_data =(x_val, y_val), epochs=epochs)"
      ],
      "execution_count": 0,
      "outputs": [
        {
          "output_type": "stream",
          "text": [
            "Train on 48000 samples, validate on 12000 samples\n",
            "Epoch 1/50\n",
            "48000/48000 [==============================] - 2s 44us/sample - loss: 0.5586 - acc: 0.8027 - val_loss: 0.4163 - val_acc: 0.8492\n",
            "Epoch 2/50\n",
            "48000/48000 [==============================] - 2s 37us/sample - loss: 0.3891 - acc: 0.8597 - val_loss: 0.3758 - val_acc: 0.8608\n",
            "Epoch 3/50\n",
            "48000/48000 [==============================] - 2s 37us/sample - loss: 0.3465 - acc: 0.8739 - val_loss: 0.3459 - val_acc: 0.8717\n",
            "Epoch 4/50\n",
            "48000/48000 [==============================] - 2s 37us/sample - loss: 0.3186 - acc: 0.8831 - val_loss: 0.3441 - val_acc: 0.8743\n",
            "Epoch 5/50\n",
            "48000/48000 [==============================] - 2s 38us/sample - loss: 0.3016 - acc: 0.8898 - val_loss: 0.3504 - val_acc: 0.8763\n",
            "Epoch 6/50\n",
            "48000/48000 [==============================] - 2s 37us/sample - loss: 0.2879 - acc: 0.8930 - val_loss: 0.3188 - val_acc: 0.8870\n",
            "Epoch 7/50\n",
            "48000/48000 [==============================] - 2s 38us/sample - loss: 0.2722 - acc: 0.8991 - val_loss: 0.3191 - val_acc: 0.8855\n",
            "Epoch 8/50\n",
            "48000/48000 [==============================] - 2s 37us/sample - loss: 0.2610 - acc: 0.9027 - val_loss: 0.3381 - val_acc: 0.8788\n",
            "Epoch 9/50\n",
            "48000/48000 [==============================] - 2s 38us/sample - loss: 0.2523 - acc: 0.9053 - val_loss: 0.3037 - val_acc: 0.8921\n",
            "Epoch 10/50\n",
            "48000/48000 [==============================] - 2s 37us/sample - loss: 0.2412 - acc: 0.9089 - val_loss: 0.3103 - val_acc: 0.8913\n",
            "Epoch 11/50\n",
            "48000/48000 [==============================] - 2s 38us/sample - loss: 0.2318 - acc: 0.9133 - val_loss: 0.3092 - val_acc: 0.8876\n",
            "Epoch 12/50\n",
            "48000/48000 [==============================] - 2s 38us/sample - loss: 0.2238 - acc: 0.9168 - val_loss: 0.2970 - val_acc: 0.8933\n",
            "Epoch 13/50\n",
            "48000/48000 [==============================] - 2s 37us/sample - loss: 0.2153 - acc: 0.9175 - val_loss: 0.3105 - val_acc: 0.8922\n",
            "Epoch 14/50\n",
            "48000/48000 [==============================] - 2s 37us/sample - loss: 0.2115 - acc: 0.9201 - val_loss: 0.3100 - val_acc: 0.8902\n",
            "Epoch 15/50\n",
            "48000/48000 [==============================] - 2s 38us/sample - loss: 0.2051 - acc: 0.9231 - val_loss: 0.3111 - val_acc: 0.8910\n",
            "Epoch 16/50\n",
            "48000/48000 [==============================] - 2s 37us/sample - loss: 0.1955 - acc: 0.9258 - val_loss: 0.3085 - val_acc: 0.8956\n",
            "Epoch 17/50\n",
            "48000/48000 [==============================] - 2s 38us/sample - loss: 0.1883 - acc: 0.9288 - val_loss: 0.3120 - val_acc: 0.8952\n",
            "Epoch 18/50\n",
            "48000/48000 [==============================] - 2s 37us/sample - loss: 0.1881 - acc: 0.9293 - val_loss: 0.3177 - val_acc: 0.9001\n",
            "Epoch 19/50\n",
            "48000/48000 [==============================] - 2s 37us/sample - loss: 0.1776 - acc: 0.9334 - val_loss: 0.3344 - val_acc: 0.8869\n",
            "Epoch 20/50\n",
            "48000/48000 [==============================] - 2s 37us/sample - loss: 0.1729 - acc: 0.9345 - val_loss: 0.3298 - val_acc: 0.8961\n",
            "Epoch 21/50\n",
            "48000/48000 [==============================] - 2s 37us/sample - loss: 0.1677 - acc: 0.9366 - val_loss: 0.3338 - val_acc: 0.8906\n",
            "Epoch 22/50\n",
            "48000/48000 [==============================] - 2s 37us/sample - loss: 0.1603 - acc: 0.9387 - val_loss: 0.3598 - val_acc: 0.8906\n",
            "Epoch 23/50\n",
            "48000/48000 [==============================] - 2s 39us/sample - loss: 0.1584 - acc: 0.9404 - val_loss: 0.3398 - val_acc: 0.8975\n",
            "Epoch 24/50\n",
            "48000/48000 [==============================] - 2s 40us/sample - loss: 0.1500 - acc: 0.9425 - val_loss: 0.3584 - val_acc: 0.8953\n",
            "Epoch 25/50\n",
            "48000/48000 [==============================] - 2s 40us/sample - loss: 0.1453 - acc: 0.9447 - val_loss: 0.3438 - val_acc: 0.8953\n",
            "Epoch 26/50\n",
            "48000/48000 [==============================] - 2s 38us/sample - loss: 0.1438 - acc: 0.9458 - val_loss: 0.3723 - val_acc: 0.8936\n",
            "Epoch 27/50\n",
            "48000/48000 [==============================] - 2s 37us/sample - loss: 0.1354 - acc: 0.9491 - val_loss: 0.3798 - val_acc: 0.8988\n",
            "Epoch 28/50\n",
            "48000/48000 [==============================] - 2s 37us/sample - loss: 0.1329 - acc: 0.9487 - val_loss: 0.3631 - val_acc: 0.8941\n",
            "Epoch 29/50\n",
            "48000/48000 [==============================] - 2s 38us/sample - loss: 0.1275 - acc: 0.9523 - val_loss: 0.3959 - val_acc: 0.8936\n",
            "Epoch 30/50\n",
            "48000/48000 [==============================] - 2s 37us/sample - loss: 0.1261 - acc: 0.9517 - val_loss: 0.3788 - val_acc: 0.8984\n",
            "Epoch 31/50\n",
            "48000/48000 [==============================] - 2s 37us/sample - loss: 0.1172 - acc: 0.9554 - val_loss: 0.3724 - val_acc: 0.8980\n",
            "Epoch 32/50\n",
            "48000/48000 [==============================] - 2s 38us/sample - loss: 0.1209 - acc: 0.9537 - val_loss: 0.3879 - val_acc: 0.9005\n",
            "Epoch 33/50\n",
            "48000/48000 [==============================] - 2s 38us/sample - loss: 0.1102 - acc: 0.9576 - val_loss: 0.3992 - val_acc: 0.8940\n",
            "Epoch 34/50\n",
            "48000/48000 [==============================] - 2s 39us/sample - loss: 0.1099 - acc: 0.9586 - val_loss: 0.3965 - val_acc: 0.8983\n",
            "Epoch 35/50\n",
            "48000/48000 [==============================] - 2s 38us/sample - loss: 0.1034 - acc: 0.9597 - val_loss: 0.4058 - val_acc: 0.8934\n",
            "Epoch 36/50\n",
            "48000/48000 [==============================] - 2s 37us/sample - loss: 0.1102 - acc: 0.9576 - val_loss: 0.4096 - val_acc: 0.8942\n",
            "Epoch 37/50\n",
            "48000/48000 [==============================] - 2s 38us/sample - loss: 0.1027 - acc: 0.9608 - val_loss: 0.4222 - val_acc: 0.8923\n",
            "Epoch 38/50\n",
            "48000/48000 [==============================] - 2s 38us/sample - loss: 0.0952 - acc: 0.9637 - val_loss: 0.4367 - val_acc: 0.8924\n",
            "Epoch 39/50\n",
            "48000/48000 [==============================] - 2s 38us/sample - loss: 0.0947 - acc: 0.9646 - val_loss: 0.4780 - val_acc: 0.8907\n",
            "Epoch 40/50\n",
            "48000/48000 [==============================] - 2s 38us/sample - loss: 0.0960 - acc: 0.9627 - val_loss: 0.4388 - val_acc: 0.8980\n",
            "Epoch 41/50\n",
            "48000/48000 [==============================] - 2s 38us/sample - loss: 0.0862 - acc: 0.9668 - val_loss: 0.4450 - val_acc: 0.8999\n",
            "Epoch 42/50\n",
            "48000/48000 [==============================] - 2s 38us/sample - loss: 0.0863 - acc: 0.9668 - val_loss: 0.4644 - val_acc: 0.8942\n",
            "Epoch 43/50\n",
            "48000/48000 [==============================] - 2s 38us/sample - loss: 0.0887 - acc: 0.9663 - val_loss: 0.5051 - val_acc: 0.8954\n",
            "Epoch 44/50\n",
            "48000/48000 [==============================] - 2s 38us/sample - loss: 0.0837 - acc: 0.9688 - val_loss: 0.4455 - val_acc: 0.8963\n",
            "Epoch 45/50\n",
            "48000/48000 [==============================] - 2s 38us/sample - loss: 0.0855 - acc: 0.9674 - val_loss: 0.4498 - val_acc: 0.8939\n",
            "Epoch 46/50\n",
            "48000/48000 [==============================] - 2s 38us/sample - loss: 0.0756 - acc: 0.9710 - val_loss: 0.4807 - val_acc: 0.8960\n",
            "Epoch 47/50\n",
            "48000/48000 [==============================] - 2s 37us/sample - loss: 0.0809 - acc: 0.9688 - val_loss: 0.4778 - val_acc: 0.8932\n",
            "Epoch 48/50\n",
            "48000/48000 [==============================] - 2s 38us/sample - loss: 0.0751 - acc: 0.9716 - val_loss: 0.4690 - val_acc: 0.9001\n",
            "Epoch 49/50\n",
            "48000/48000 [==============================] - 2s 37us/sample - loss: 0.0740 - acc: 0.9718 - val_loss: 0.4689 - val_acc: 0.9013\n",
            "Epoch 50/50\n",
            "48000/48000 [==============================] - 2s 37us/sample - loss: 0.0708 - acc: 0.9732 - val_loss: 0.5011 - val_acc: 0.8948\n"
          ],
          "name": "stdout"
        }
      ]
    },
    {
      "cell_type": "markdown",
      "metadata": {
        "id": "Ke9Usxcz7Qo9",
        "colab_type": "text"
      },
      "source": [
        "### Training history visualization\n",
        "\n"
      ]
    },
    {
      "cell_type": "code",
      "metadata": {
        "id": "3KbNYuD97Qo-",
        "colab_type": "code",
        "colab": {}
      },
      "source": [
        "def plot_history(history):\n",
        "    # Plot training & validation accuracy values\n",
        "    plt.plot(history.history['acc'])\n",
        "    plt.plot(history.history['val_acc'])\n",
        "    plt.title('Model accuracy')\n",
        "    plt.ylabel('Accuracy')\n",
        "    plt.xlabel('Epoch')\n",
        "    plt.legend(['Train', 'Val'], loc='upper left')\n",
        "    plt.show()\n",
        "\n",
        "    # Plot training & validation loss values\n",
        "    plt.plot(history.history['loss'])\n",
        "    plt.plot(history.history['val_loss'])\n",
        "    plt.title('Model loss')\n",
        "    plt.ylabel('Loss')\n",
        "    plt.xlabel('Epoch')\n",
        "    plt.legend(['Train', 'Val'], loc='upper left')\n",
        "    plt.show()"
      ],
      "execution_count": 0,
      "outputs": []
    },
    {
      "cell_type": "code",
      "metadata": {
        "scrolled": false,
        "id": "mKAz7uYC7QpD",
        "colab_type": "code",
        "colab": {}
      },
      "source": [
        "plot_history(history)"
      ],
      "execution_count": 0,
      "outputs": []
    },
    {
      "cell_type": "markdown",
      "metadata": {
        "id": "UPlLU9Rn7QpF",
        "colab_type": "text"
      },
      "source": [
        "**What could you notice in the loss graph training the model over large number of epochs (50 is sufficient)?**\n"
      ]
    },
    {
      "cell_type": "markdown",
      "metadata": {
        "id": "CCuTJhYJ7QpH",
        "colab_type": "text"
      },
      "source": [
        "### Evaluate the model\n"
      ]
    },
    {
      "cell_type": "code",
      "metadata": {
        "id": "up3hUnGK7QpH",
        "colab_type": "code",
        "colab": {}
      },
      "source": [
        "_, train_acc = model.evaluate(x_train, y_train, verbose=1)\n",
        "_, test_acc = model.evaluate(x_test, y_test, verbose=1)\n",
        "print('Train: %.3f, Test: %.3f' % (train_acc, test_acc))"
      ],
      "execution_count": 0,
      "outputs": []
    },
    {
      "cell_type": "markdown",
      "metadata": {
        "id": "cg50FGNt7QpK",
        "colab_type": "text"
      },
      "source": [
        "**Try to play with these parameters (loss and optimizers) in order to see how this choice affects the accuracy.**\n",
        "What do you expect? which is faster?"
      ]
    },
    {
      "cell_type": "markdown",
      "metadata": {
        "id": "qgLOkB1b7QpK",
        "colab_type": "text"
      },
      "source": [
        "## 0.3 Overfitting\n",
        "Given some training data and a network architecture, there are multiple sets of weights values (multiple models) that could explain the data, and simpler models are less likely to overfit than complex ones.<br>\n",
        "A \"simple model\" in this context is a model where the distribution of parameter values has less entropy (or a model with fewer parameters altogether).<br>\n",
        "How to improve generalization of our model on unseen data?<br>\n",
        "There exists different methods, the most used are:\n",
        "    1. Add weight regularization\n",
        "    2. Dropout\n",
        "    3. Early stopping"
      ]
    },
    {
      "cell_type": "markdown",
      "metadata": {
        "id": "R5YrSYB97QpL",
        "colab_type": "text"
      },
      "source": [
        "### 0.3.1 Add weight regularization\n",
        "A common way to mitigate overfitting is to put constraints on the complexity of a network by forcing its weights only to take small values, which makes the distribution of weight values more \"regular\".<br>\n",
        "This is called \"weight regularization\", and it is done by adding to the loss function of the network a cost associated with having large weights.<br> This cost comes in two flavors:\n",
        "* L1 regularization\n",
        "* L2 regularization\n",
        "\n",
        "In tf.keras, weight regularization is added by passing weight regularizer instances to layers as keyword arguments."
      ]
    },
    {
      "cell_type": "code",
      "metadata": {
        "scrolled": false,
        "id": "K3vHUgVe7QpL",
        "colab_type": "code",
        "colab": {}
      },
      "source": [
        "# Build the model\n",
        "# hint: see kernel_regularizer parameter in the keras layers\n",
        "model = # --fill here-- #\n",
        "\n",
        "\n",
        "# Compile the model\n",
        "# --fill here-- #\n",
        "\n",
        "\n",
        "# Train the model\n",
        "epochs = # --fill here-- # \n",
        "history = # --fill here-- # \n",
        "\n",
        "\n",
        "plot_history(history)\n",
        "\n",
        "# Evaluate\n",
        "_, train_acc = # --fill here-- # \n",
        "_, test_acc = # --fill here-- # \n",
        "print('Train: %.3f, Test: %.3f' % (train_acc, test_acc))"
      ],
      "execution_count": 0,
      "outputs": []
    },
    {
      "cell_type": "markdown",
      "metadata": {
        "id": "BRqyzNsp7QpO",
        "colab_type": "text"
      },
      "source": [
        "### 0.3.2 Dropout\n",
        "Dropout (http://jmlr.org/papers/volume15/srivastava14a/srivastava14a.pdf) is one of the most effective and most commonly used regularization techniques for neural networks.<br>\n",
        "Dropout, applied to a layer, consists of randomly \"dropping out\" (i.e. set to zero) a number of output features of the layer during training.<br>\n",
        "<img src=\"http://mlclass.epizy.com/lab0_images_notebook/dropout.png\" width=\"600px\"><br>\n",
        "The \"dropout rate\" is the fraction of the features that are being zeroed-out; it is usually set between 0.2 and 0.5; at test time, no units are dropped out, and instead the layer's output values are scaled down by a factor equal to the dropout rate, so as to balance for the fact that more units are active than at training time."
      ]
    },
    {
      "cell_type": "code",
      "metadata": {
        "scrolled": false,
        "id": "N2-lMCxk7QpP",
        "colab_type": "code",
        "colab": {}
      },
      "source": [
        "# Build the model\n",
        "model = # --fill here-- #\n",
        "\n",
        "# Compile the model\n",
        "# --fill here-- #\n",
        "\n",
        "# Train\n",
        "epochs =  # --fill here-- # \n",
        "history = # --fill here-- # \n",
        "\n",
        "\n",
        "plot_history(history)\n",
        "\n",
        "# Evaluate\n",
        "_, train_acc = # --fill here-- # \n",
        "_, test_acc = # --fill here-- # \n",
        "print('Train: %.3f, Test: %.3f' % (train_acc, test_acc))"
      ],
      "execution_count": 0,
      "outputs": []
    },
    {
      "cell_type": "markdown",
      "metadata": {
        "id": "JSHT3sky7QpT",
        "colab_type": "text"
      },
      "source": [
        "### 0.3.3 Early stopping\n",
        "Validation can be used to detect when overfitting starts during supervised training of a neural network; training is then stopped before convergence to avoid the overfitting.<br>\n",
        "<img src=\"http://mlclass.epizy.com/lab0_images_notebook/earlystopping.pbm\" width=\"400px\"><br>\n"
      ]
    },
    {
      "cell_type": "code",
      "metadata": {
        "id": "UgUD_S6i7QpV",
        "colab_type": "code",
        "colab": {}
      },
      "source": [
        "# early stopping https://keras.io/callbacks/\n",
        "es = tf.keras.callbacks.EarlyStopping(monitor='val_loss', mode='min', verbose=1,patience=5)\n",
        "\n",
        "# Create checkpoint callback that will save the best model observed during training for later use\n",
        "checkpoint_path = \"output/cp.ckpt\"\n",
        "checkpoint_dir = os.path.dirname(checkpoint_path)\n",
        "cp_callback = tf.keras.callbacks.ModelCheckpoint(checkpoint_path,monitor='val_loss',save_weights_only=True,verbose=1)"
      ],
      "execution_count": 0,
      "outputs": []
    },
    {
      "cell_type": "code",
      "metadata": {
        "scrolled": false,
        "id": "1YoVdPYR7QpY",
        "colab_type": "code",
        "colab": {}
      },
      "source": [
        "# Build the model\n",
        "model = # --fill here-- # \n",
        "\n",
        "# Compile the model\n",
        "# --fill here-- #\n",
        "\n",
        "\n",
        "# Train\n",
        "# hint: check at the callbacks parameter of the fit() function\n",
        "epochs = # --fill here-- # \n",
        "history = # --fill here-- # \n",
        "\n",
        "# This may generate warnings related to saving the state of the optimizer.\n",
        "\n",
        "plot_history(history)\n",
        "\n",
        "# Evaluate\n",
        "_, train_acc = # --fill here-- # \n",
        "_, test_acc = # --fill here-- # \n",
        "print('Train: %.3f, Test: %.3f' % (train_acc, test_acc))"
      ],
      "execution_count": 0,
      "outputs": []
    },
    {
      "cell_type": "markdown",
      "metadata": {
        "id": "VW-zgM3s7Qpi",
        "colab_type": "text"
      },
      "source": [
        "### Load weights\n",
        "The saved weights can then be loaded and evaluated any time by calling the load_weights() function.\n"
      ]
    },
    {
      "cell_type": "code",
      "metadata": {
        "scrolled": false,
        "id": "DTHkE6x47Qpk",
        "colab_type": "code",
        "colab": {}
      },
      "source": [
        "# This may generate warnings related to saving the state of the optimizer.\n",
        "# These warnings (and similar warnings throughout this notebook)\n",
        "# are in place to discourage outdated usage, and can be ignored.\n",
        "# link https://www.tensorflow.org/tutorials/keras/save_and_restore_models\n",
        "\n",
        "checkpoint_path = \"output/cp.ckpt\"\n",
        "\n",
        "model.load_weights(checkpoint_path)\n",
        "\n",
        "_, train_acc = model.evaluate(x_train, y_train, verbose=1)\n",
        "_, test_acc = model.evaluate(x_test, y_test, verbose=1)\n",
        "print('Train: %.3f, Test: %.3f' % (train_acc, test_acc))"
      ],
      "execution_count": 0,
      "outputs": []
    }
  ]
}