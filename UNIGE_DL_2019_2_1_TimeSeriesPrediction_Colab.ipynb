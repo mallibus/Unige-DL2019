{
  "nbformat": 4,
  "nbformat_minor": 0,
  "metadata": {
    "kernelspec": {
      "display_name": "Python 3",
      "language": "python",
      "name": "python3"
    },
    "language_info": {
      "codemirror_mode": {
        "name": "ipython",
        "version": 3
      },
      "file_extension": ".py",
      "mimetype": "text/x-python",
      "name": "python",
      "nbconvert_exporter": "python",
      "pygments_lexer": "ipython3",
      "version": "3.7.2"
    },
    "colab": {
      "name": "UNIGE DL 2019 -  2.1.TimeSeriesPrediction_Colab.ipynb",
      "version": "0.3.2",
      "provenance": [],
      "collapsed_sections": [],
      "include_colab_link": true
    }
  },
  "cells": [
    {
      "cell_type": "markdown",
      "metadata": {
        "id": "view-in-github",
        "colab_type": "text"
      },
      "source": [
        "<a href=\"https://colab.research.google.com/github/mallibus/Unige-DL2019/blob/master/UNIGE_DL_2019_2_1_TimeSeriesPrediction_Colab.ipynb\" target=\"_parent\"><img src=\"https://colab.research.google.com/assets/colab-badge.svg\" alt=\"Open In Colab\"/></a>"
      ]
    },
    {
      "cell_type": "markdown",
      "metadata": {
        "id": "l2EwWUVH8Uwq",
        "colab_type": "text"
      },
      "source": [
        "# Lab 2.1 TimeSeriesPrediction"
      ]
    },
    {
      "cell_type": "code",
      "metadata": {
        "id": "UcPEGHKR8Uwt",
        "colab_type": "code",
        "colab": {}
      },
      "source": [
        "from __future__ import print_function\n",
        "import tensorflow as tf\n",
        "import matplotlib.pyplot as plt\n",
        "import numpy as np\n",
        "import pandas as pd\n",
        "from sklearn.preprocessing import MinMaxScaler\n",
        "\n",
        "\n",
        "tf.enable_eager_execution()\n",
        "\n",
        "print(\"TensorFlow version: {}\".format(tf.__version__))\n",
        "print(\"Eager execution: {}\".format(tf.executing_eagerly()))"
      ],
      "execution_count": 0,
      "outputs": []
    },
    {
      "cell_type": "markdown",
      "metadata": {
        "id": "K-2kXziy8Uw0",
        "colab_type": "text"
      },
      "source": [
        "# Stock Prediction\n",
        "In this part of the lab we see how to deal with time series and how to build a model to make stock prediction.<br>\n",
        "The dataset contains the prices and volumes of bitcoin; even if the market is not stable and quite speculative, data science techniques can provide valuable information trying to predict future behaviours and trends. "
      ]
    },
    {
      "cell_type": "markdown",
      "metadata": {
        "id": "5loBiOzE8Uw2",
        "colab_type": "text"
      },
      "source": [
        "#### Load data"
      ]
    },
    {
      "cell_type": "code",
      "metadata": {
        "id": "NENexze98Uw4",
        "colab_type": "code",
        "colab": {}
      },
      "source": [
        "csv_path = \"https://raw.githubusercontent.com/curiousily/Deep-Learning-For-Hackers/master/data/3.stock-prediction/BTC-USD.csv\"\n",
        "df = pd.read_csv(csv_path, parse_dates=['Date'])\n",
        "\n",
        "df.shape"
      ],
      "execution_count": 0,
      "outputs": []
    },
    {
      "cell_type": "code",
      "metadata": {
        "id": "mS1qr-ZG8Uw9",
        "colab_type": "code",
        "colab": {}
      },
      "source": [
        "df = df.sort_values('Date')\n",
        "df.head()"
      ],
      "execution_count": 0,
      "outputs": []
    },
    {
      "cell_type": "markdown",
      "metadata": {
        "id": "B8KjPX3q8UxC",
        "colab_type": "text"
      },
      "source": [
        "#### Plot the data"
      ]
    },
    {
      "cell_type": "code",
      "metadata": {
        "id": "8uVAaRgM8UxD",
        "colab_type": "code",
        "colab": {}
      },
      "source": [
        "ax = df.plot(x='Date', y='Close');\n",
        "ax.set_xlabel(\"Date\")\n",
        "ax.set_ylabel(\"Close Price (USD)\")"
      ],
      "execution_count": 0,
      "outputs": []
    },
    {
      "cell_type": "markdown",
      "metadata": {
        "id": "BcnJfwLP8UxM",
        "colab_type": "text"
      },
      "source": [
        "#### Normalize data"
      ]
    },
    {
      "cell_type": "code",
      "metadata": {
        "id": "Zaf_UEmn8UxN",
        "colab_type": "code",
        "colab": {}
      },
      "source": [
        "scaler = MinMaxScaler()\n",
        "\n",
        "# We select the bitcoin closing price as our target variable to predict.\n",
        "close_price = df.Close.values.reshape(-1, 1)\n",
        "\n",
        "scaled_close = # --fill here-- # fit to data, then transform it using scaler\n",
        "scaled_close = scaled_close[~np.isnan(scaled_close)]\n",
        "scaled_close = scaled_close.reshape(-1, 1)"
      ],
      "execution_count": 0,
      "outputs": []
    },
    {
      "cell_type": "markdown",
      "metadata": {
        "id": "zUiaWmmh8UxR",
        "colab_type": "text"
      },
      "source": [
        "#### Preprocessing"
      ]
    },
    {
      "cell_type": "code",
      "metadata": {
        "id": "gysHkdQF8UxS",
        "colab_type": "code",
        "colab": {}
      },
      "source": [
        "def window_data(data, window_size):\n",
        "    \"\"\" window_size represents how many data points we are going to use to predict the next datapoint in the sequence. \n",
        "       ( e.g. window_size=50 we are going to use the previous 50 days to predict the bitcoin price for today).\"\"\"\n",
        "    \n",
        "    d = []\n",
        "    \n",
        "    for index in range(len(data) - window_size):\n",
        "        d.append(data[index: index + window_size])\n",
        "\n",
        "    return np.array(d)\n",
        "\n",
        "def preprocess(data_raw, window_size, train_split):\n",
        "\n",
        "    data = window_data(data_raw, window_size)\n",
        "    \n",
        "    num_train = int(train_split * data.shape[0])\n",
        "\n",
        "    x_train = data[# --fill here-- #] # contains the first num_train windows except the last value \n",
        "                                        # that has to be predicted\n",
        "    y_train = data[# --fill here-- #] # contains (the first num_train) corresponding corrected values (that \n",
        "                                        # has to be compared to the predicted in order to train the model)\n",
        "    x_test = data[# --fill here-- #] # contains the windows not used in the train test except the last value \n",
        "                                       # that has to be predicted\n",
        "    y_test = data[# --fill here-- #] # contains the corresponding corrected values (that \n",
        "                                       # has to be compared to the predicted in order to train the model)\n",
        "    return x_train, y_train, x_test, y_test"
      ],
      "execution_count": 0,
      "outputs": []
    },
    {
      "cell_type": "markdown",
      "metadata": {
        "id": "emURGucw8UxX",
        "colab_type": "text"
      },
      "source": [
        "The blue window represents the part of data used to learn, the red line represents the value that has to be predicted.\n",
        "<img src=\"http://mlclass.epizy.com/lab2_images_notebook/window.gif\" width=\" 400px\">"
      ]
    },
    {
      "cell_type": "markdown",
      "metadata": {
        "id": "CsoIMbKIoOQl",
        "colab_type": "text"
      },
      "source": [
        "### Note\n",
        "If you cannot see the image in the previous block, click on the following link. <br>\n",
        "http://mlclass.epizy.com/lab2_images_notebook/window.gif\n",
        "\n",
        "You will be redirected to an image. Come back and reload this page. You should be able to see the images on this page now."
      ]
    },
    {
      "cell_type": "code",
      "metadata": {
        "id": "Inh1U9_b8UxZ",
        "colab_type": "code",
        "colab": {}
      },
      "source": [
        "window_size = 100\n",
        "\n",
        "x_train, y_train, x_test, y_test = preprocess(scaled_close, window_size, train_split = 0.80)\n",
        "x_train.shape, x_test.shape"
      ],
      "execution_count": 0,
      "outputs": []
    },
    {
      "cell_type": "markdown",
      "metadata": {
        "id": "ZvSEpUsK8Uxd",
        "colab_type": "text"
      },
      "source": [
        "#### Build the model"
      ]
    },
    {
      "cell_type": "code",
      "metadata": {
        "id": "zkV8Sp968Uxe",
        "colab_type": "code",
        "colab": {}
      },
      "source": [
        "model = (# --fill here-- #  try to stack 3 LSTM layer and then one fully connected with units=1 (regression) and linear activation\n",
        "# set return_sequences=True when stacking LSTM layers so that the successive LSTM layer has a three-dimensional sequence input\n",
        "model.add(tf.keras.layers.Activation('linear'))\n",
        "\n"
      ],
      "execution_count": 0,
      "outputs": []
    },
    {
      "cell_type": "markdown",
      "metadata": {
        "id": "vXZpUJgL8Uxj",
        "colab_type": "text"
      },
      "source": [
        "#### Compile the model"
      ]
    },
    {
      "cell_type": "code",
      "metadata": {
        "id": "1U7GN4tK8Uxk",
        "colab_type": "code",
        "colab": {}
      },
      "source": [
        "# --fill here-- # try MSE as loss "
      ],
      "execution_count": 0,
      "outputs": []
    },
    {
      "cell_type": "markdown",
      "metadata": {
        "id": "K6uWrtMq8Uxq",
        "colab_type": "text"
      },
      "source": [
        "#### Train the model"
      ]
    },
    {
      "cell_type": "code",
      "metadata": {
        "id": "Oab_6yBx8Uxr",
        "colab_type": "code",
        "colab": {}
      },
      "source": [
        "batch_size = # --fill here-- #\n",
        "history = # --fill here-- # Use 20 percent of data for the validation."
      ],
      "execution_count": 0,
      "outputs": []
    },
    {
      "cell_type": "markdown",
      "metadata": {
        "id": "C5pv4IZC8Uxx",
        "colab_type": "text"
      },
      "source": [
        "#### Plot training & validation loss values"
      ]
    },
    {
      "cell_type": "code",
      "metadata": {
        "id": "kdZebfu_8Uxy",
        "colab_type": "code",
        "colab": {}
      },
      "source": [
        "plt.plot(history.history['loss'])\n",
        "plt.plot(history.history['val_loss'])\n",
        "plt.title('Model loss')\n",
        "plt.ylabel('Loss')\n",
        "plt.xlabel('Epoch')\n",
        "plt.legend(['Train', 'Val'], loc='upper left')\n",
        "plt.show()"
      ],
      "execution_count": 0,
      "outputs": []
    },
    {
      "cell_type": "markdown",
      "metadata": {
        "id": "HVG7lndx8Ux4",
        "colab_type": "text"
      },
      "source": [
        "#### Evaluate the model"
      ]
    },
    {
      "cell_type": "code",
      "metadata": {
        "id": "yY9GsIVU8Ux5",
        "colab_type": "code",
        "colab": {}
      },
      "source": [
        "# --fill here-- # "
      ],
      "execution_count": 0,
      "outputs": []
    },
    {
      "cell_type": "code",
      "metadata": {
        "id": "bPijT6Kd8Ux9",
        "colab_type": "code",
        "colab": {}
      },
      "source": [
        "# y_hat = # --fill here-- # predict x_test\n",
        "\n",
        "y_test_inverse = scaler.inverse_transform(y_test)\n",
        "y_hat_inverse = scaler.inverse_transform(y_hat)\n",
        " \n",
        "plt.plot(y_test_inverse, label=\"Actual Price\", color='green')\n",
        "plt.plot(y_hat_inverse, label=\"Predicted Price\", color='red')\n",
        " \n",
        "plt.title('Bitcoin price prediction')\n",
        "plt.xlabel('Time [days]')\n",
        "plt.ylabel('Price')\n",
        "plt.legend(loc='best')\n",
        " \n",
        "plt.show();"
      ],
      "execution_count": 0,
      "outputs": []
    }
  ]
}